{
 "cells": [
  {
   "cell_type": "code",
   "execution_count": 1,
   "id": "2795da8e",
   "metadata": {
    "_cell_guid": "b1076dfc-b9ad-4769-8c92-a6c4dae69d19",
    "_uuid": "8f2839f25d086af736a60e9eeb907d3b93b6e0e5",
    "execution": {
     "iopub.execute_input": "2022-07-31T15:09:03.013876Z",
     "iopub.status.busy": "2022-07-31T15:09:03.012876Z",
     "iopub.status.idle": "2022-07-31T15:09:03.035955Z",
     "shell.execute_reply": "2022-07-31T15:09:03.034597Z"
    },
    "papermill": {
     "duration": 0.043885,
     "end_time": "2022-07-31T15:09:03.038846",
     "exception": false,
     "start_time": "2022-07-31T15:09:02.994961",
     "status": "completed"
    },
    "tags": []
   },
   "outputs": [
    {
     "name": "stdout",
     "output_type": "stream",
     "text": [
      "/kaggle/input/netflix-tv-shows-and-movies/credits.csv\n",
      "/kaggle/input/netflix-tv-shows-and-movies/titles.csv\n"
     ]
    }
   ],
   "source": [
    "# This Python 3 environment comes with many helpful analytics libraries installed\n",
    "# It is defined by the kaggle/python Docker image: https://github.com/kaggle/docker-python\n",
    "# For example, here's several helpful packages to load\n",
    "\n",
    "import numpy as np # linear algebra\n",
    "import pandas as pd # data processing, CSV file I/O (e.g. pd.read_csv)\n",
    "\n",
    "# Input data files are available in the read-only \"../input/\" directory\n",
    "# For example, running this (by clicking run or pressing Shift+Enter) will list all files under the input directory\n",
    "\n",
    "import os\n",
    "for dirname, _, filenames in os.walk('/kaggle/input'):\n",
    "    for filename in filenames:\n",
    "        print(os.path.join(dirname, filename))\n",
    "\n",
    "# You can write up to 20GB to the current directory (/kaggle/working/) that gets preserved as output when you create a version using \"Save & Run All\" \n",
    "# You can also write temporary files to /kaggle/temp/, but they won't be saved outside of the current session"
   ]
  },
  {
   "cell_type": "markdown",
   "id": "da79ea46",
   "metadata": {
    "papermill": {
     "duration": 0.014157,
     "end_time": "2022-07-31T15:09:03.068356",
     "exception": false,
     "start_time": "2022-07-31T15:09:03.054199",
     "status": "completed"
    },
    "tags": []
   },
   "source": [
    "![netflix](https://i.pcmag.com/imagery/reviews/05cItXL96l4LE9n02WfDR0h-5..v1582751026.png)"
   ]
  },
  {
   "cell_type": "markdown",
   "id": "67938105",
   "metadata": {
    "papermill": {
     "duration": 0.014592,
     "end_time": "2022-07-31T15:09:03.097871",
     "exception": false,
     "start_time": "2022-07-31T15:09:03.083279",
     "status": "completed"
    },
    "tags": []
   },
   "source": [
    "<h1 style=\"color:black;font-size:50px; font-weight:bold;\"><center><b>EXPLORATORY DATA ANALYSIS ON NETFLIX DATASET</center></h1> "
   ]
  },
  {
   "cell_type": "markdown",
   "id": "568b01f2",
   "metadata": {
    "papermill": {
     "duration": 0.014187,
     "end_time": "2022-07-31T15:09:03.127370",
     "exception": false,
     "start_time": "2022-07-31T15:09:03.113183",
     "status": "completed"
    },
    "tags": []
   },
   "source": [
    "About Netflix\n",
    "\n",
    "Netflix, Inc. is an American subscription streaming service and production company. Launched on August 29, 1997, it offers a film and television series library through distribution deals as well as its own productions, known as Netflix Originals.\n",
    "\n",
    "As of March 31, 2022, Netflix had over 221.6 million subscribers worldwide, including 74.6 million in the United States and Canada, 74.0 million in Europe, the Middle East and Africa, 39.9 million in Latin America and 32.7 million in Asia-Pacific. It is available worldwide aside from Mainland China, Syria, North Korea, and Russia. Netflix has played a prominent role in independent film distribution, and it is a member of the Motion Picture Association (MPA).\n",
    "\n",
    "Netflix can be accessed via web browsers or via application software installed on smart TVs, set-top boxes connected to televisions, tablet computers, smartphones, digital media players, Blu-ray players, video game consoles and virtual reality headsets on the list of Netflix-compatible devices.It is available in 4K resolution. In the United States, the company provides DVD and Blu-ray rentals delivered individually via the United States Postal Service from regional warehouses.\n",
    "\n",
    "Netflix was founded on the aforementioned date by Reed Hastings and Marc Randolph in Scotts Valley, California. Netflix initially both sold and rented DVDs by mail, but the sales were eliminated within a year to focus on the DVD rental business. In 2007, Netflix introduced streaming media and video on demand. The company expanded to Canada in 2010, followed by Latin America and the Caribbean. Netflix entered the content-production industry in 2013, debuting its first series House of Cards. In January 2016, it expanded to an additional 130 countries and then operated in 190 countries.\n",
    "\n",
    "The company is ranked 115th on the Fortune 500 and 219th on the Forbes Global 2000. It is the second largest entertainment/media company by market capitalization as of February, 2022. In 2021, Netflix was ranked as the eighth-most trusted brand globally by Morning Consult.During the 2010s, Netflix was the top-performing stock in the S&P 500 stock market index, with a total return of 3,693%."
   ]
  },
  {
   "cell_type": "markdown",
   "id": "c4aaf2df",
   "metadata": {
    "papermill": {
     "duration": 0.014348,
     "end_time": "2022-07-31T15:09:03.157106",
     "exception": false,
     "start_time": "2022-07-31T15:09:03.142758",
     "status": "completed"
    },
    "tags": []
   },
   "source": [
    "### Importing Required Libraries"
   ]
  },
  {
   "cell_type": "code",
   "execution_count": 2,
   "id": "97df2ad6",
   "metadata": {
    "execution": {
     "iopub.execute_input": "2022-07-31T15:09:03.188408Z",
     "iopub.status.busy": "2022-07-31T15:09:03.187663Z",
     "iopub.status.idle": "2022-07-31T15:09:06.502089Z",
     "shell.execute_reply": "2022-07-31T15:09:06.500665Z"
    },
    "papermill": {
     "duration": 3.3336,
     "end_time": "2022-07-31T15:09:06.505143",
     "exception": false,
     "start_time": "2022-07-31T15:09:03.171543",
     "status": "completed"
    },
    "tags": []
   },
   "outputs": [],
   "source": [
    "import numpy as np\n",
    "import pandas as pd\n",
    "import seaborn as sns\n",
    "import matplotlib.pyplot as plt \n",
    "import scipy.stats\n",
    "from math import sqrt\n",
    "import plotly.graph_objects as go\n",
    "import statsmodels.api as sm\n",
    "import os\n",
    "import math\n",
    "from datetime import datetime\n",
    "from datetime import timedelta\n",
    "import plotly.express as px\n",
    "import ast\n",
    "import random\n"
   ]
  },
  {
   "cell_type": "code",
   "execution_count": 3,
   "id": "1bd7bf31",
   "metadata": {
    "execution": {
     "iopub.execute_input": "2022-07-31T15:09:06.535810Z",
     "iopub.status.busy": "2022-07-31T15:09:06.535392Z",
     "iopub.status.idle": "2022-07-31T15:09:06.629434Z",
     "shell.execute_reply": "2022-07-31T15:09:06.628292Z"
    },
    "papermill": {
     "duration": 0.11258,
     "end_time": "2022-07-31T15:09:06.632277",
     "exception": false,
     "start_time": "2022-07-31T15:09:06.519697",
     "status": "completed"
    },
    "tags": []
   },
   "outputs": [],
   "source": [
    "df= pd.read_csv('../input/netflix-tv-shows-and-movies/titles.csv')"
   ]
  },
  {
   "cell_type": "markdown",
   "id": "182de4ab",
   "metadata": {
    "papermill": {
     "duration": 0.014195,
     "end_time": "2022-07-31T15:09:06.661012",
     "exception": false,
     "start_time": "2022-07-31T15:09:06.646817",
     "status": "completed"
    },
    "tags": []
   },
   "source": [
    "# **Data Preprocessing**"
   ]
  },
  {
   "cell_type": "code",
   "execution_count": 4,
   "id": "785ed62a",
   "metadata": {
    "execution": {
     "iopub.execute_input": "2022-07-31T15:09:06.691864Z",
     "iopub.status.busy": "2022-07-31T15:09:06.691403Z",
     "iopub.status.idle": "2022-07-31T15:09:06.724839Z",
     "shell.execute_reply": "2022-07-31T15:09:06.723701Z"
    },
    "papermill": {
     "duration": 0.051885,
     "end_time": "2022-07-31T15:09:06.727414",
     "exception": false,
     "start_time": "2022-07-31T15:09:06.675529",
     "status": "completed"
    },
    "tags": []
   },
   "outputs": [
    {
     "data": {
      "text/html": [
       "<div>\n",
       "<style scoped>\n",
       "    .dataframe tbody tr th:only-of-type {\n",
       "        vertical-align: middle;\n",
       "    }\n",
       "\n",
       "    .dataframe tbody tr th {\n",
       "        vertical-align: top;\n",
       "    }\n",
       "\n",
       "    .dataframe thead th {\n",
       "        text-align: right;\n",
       "    }\n",
       "</style>\n",
       "<table border=\"1\" class=\"dataframe\">\n",
       "  <thead>\n",
       "    <tr style=\"text-align: right;\">\n",
       "      <th></th>\n",
       "      <th>id</th>\n",
       "      <th>title</th>\n",
       "      <th>type</th>\n",
       "      <th>description</th>\n",
       "      <th>release_year</th>\n",
       "      <th>age_certification</th>\n",
       "      <th>runtime</th>\n",
       "      <th>genres</th>\n",
       "      <th>production_countries</th>\n",
       "      <th>seasons</th>\n",
       "      <th>imdb_id</th>\n",
       "      <th>imdb_score</th>\n",
       "      <th>imdb_votes</th>\n",
       "      <th>tmdb_popularity</th>\n",
       "      <th>tmdb_score</th>\n",
       "    </tr>\n",
       "  </thead>\n",
       "  <tbody>\n",
       "    <tr>\n",
       "      <th>0</th>\n",
       "      <td>ts300399</td>\n",
       "      <td>Five Came Back: The Reference Films</td>\n",
       "      <td>SHOW</td>\n",
       "      <td>This collection includes 12 World War II-era p...</td>\n",
       "      <td>1945</td>\n",
       "      <td>TV-MA</td>\n",
       "      <td>51</td>\n",
       "      <td>['documentation']</td>\n",
       "      <td>['US']</td>\n",
       "      <td>1.0</td>\n",
       "      <td>NaN</td>\n",
       "      <td>NaN</td>\n",
       "      <td>NaN</td>\n",
       "      <td>0.600</td>\n",
       "      <td>NaN</td>\n",
       "    </tr>\n",
       "    <tr>\n",
       "      <th>1</th>\n",
       "      <td>tm84618</td>\n",
       "      <td>Taxi Driver</td>\n",
       "      <td>MOVIE</td>\n",
       "      <td>A mentally unstable Vietnam War veteran works ...</td>\n",
       "      <td>1976</td>\n",
       "      <td>R</td>\n",
       "      <td>114</td>\n",
       "      <td>['drama', 'crime']</td>\n",
       "      <td>['US']</td>\n",
       "      <td>NaN</td>\n",
       "      <td>tt0075314</td>\n",
       "      <td>8.2</td>\n",
       "      <td>808582.0</td>\n",
       "      <td>40.965</td>\n",
       "      <td>8.179</td>\n",
       "    </tr>\n",
       "    <tr>\n",
       "      <th>2</th>\n",
       "      <td>tm154986</td>\n",
       "      <td>Deliverance</td>\n",
       "      <td>MOVIE</td>\n",
       "      <td>Intent on seeing the Cahulawassee River before...</td>\n",
       "      <td>1972</td>\n",
       "      <td>R</td>\n",
       "      <td>109</td>\n",
       "      <td>['drama', 'action', 'thriller', 'european']</td>\n",
       "      <td>['US']</td>\n",
       "      <td>NaN</td>\n",
       "      <td>tt0068473</td>\n",
       "      <td>7.7</td>\n",
       "      <td>107673.0</td>\n",
       "      <td>10.010</td>\n",
       "      <td>7.300</td>\n",
       "    </tr>\n",
       "    <tr>\n",
       "      <th>3</th>\n",
       "      <td>tm127384</td>\n",
       "      <td>Monty Python and the Holy Grail</td>\n",
       "      <td>MOVIE</td>\n",
       "      <td>King Arthur, accompanied by his squire, recrui...</td>\n",
       "      <td>1975</td>\n",
       "      <td>PG</td>\n",
       "      <td>91</td>\n",
       "      <td>['fantasy', 'action', 'comedy']</td>\n",
       "      <td>['GB']</td>\n",
       "      <td>NaN</td>\n",
       "      <td>tt0071853</td>\n",
       "      <td>8.2</td>\n",
       "      <td>534486.0</td>\n",
       "      <td>15.461</td>\n",
       "      <td>7.811</td>\n",
       "    </tr>\n",
       "    <tr>\n",
       "      <th>4</th>\n",
       "      <td>tm120801</td>\n",
       "      <td>The Dirty Dozen</td>\n",
       "      <td>MOVIE</td>\n",
       "      <td>12 American military prisoners in World War II...</td>\n",
       "      <td>1967</td>\n",
       "      <td>NaN</td>\n",
       "      <td>150</td>\n",
       "      <td>['war', 'action']</td>\n",
       "      <td>['GB', 'US']</td>\n",
       "      <td>NaN</td>\n",
       "      <td>tt0061578</td>\n",
       "      <td>7.7</td>\n",
       "      <td>72662.0</td>\n",
       "      <td>20.398</td>\n",
       "      <td>7.600</td>\n",
       "    </tr>\n",
       "  </tbody>\n",
       "</table>\n",
       "</div>"
      ],
      "text/plain": [
       "         id                                title   type  \\\n",
       "0  ts300399  Five Came Back: The Reference Films   SHOW   \n",
       "1   tm84618                          Taxi Driver  MOVIE   \n",
       "2  tm154986                          Deliverance  MOVIE   \n",
       "3  tm127384      Monty Python and the Holy Grail  MOVIE   \n",
       "4  tm120801                      The Dirty Dozen  MOVIE   \n",
       "\n",
       "                                         description  release_year  \\\n",
       "0  This collection includes 12 World War II-era p...          1945   \n",
       "1  A mentally unstable Vietnam War veteran works ...          1976   \n",
       "2  Intent on seeing the Cahulawassee River before...          1972   \n",
       "3  King Arthur, accompanied by his squire, recrui...          1975   \n",
       "4  12 American military prisoners in World War II...          1967   \n",
       "\n",
       "  age_certification  runtime                                       genres  \\\n",
       "0             TV-MA       51                            ['documentation']   \n",
       "1                 R      114                           ['drama', 'crime']   \n",
       "2                 R      109  ['drama', 'action', 'thriller', 'european']   \n",
       "3                PG       91              ['fantasy', 'action', 'comedy']   \n",
       "4               NaN      150                            ['war', 'action']   \n",
       "\n",
       "  production_countries  seasons    imdb_id  imdb_score  imdb_votes  \\\n",
       "0               ['US']      1.0        NaN         NaN         NaN   \n",
       "1               ['US']      NaN  tt0075314         8.2    808582.0   \n",
       "2               ['US']      NaN  tt0068473         7.7    107673.0   \n",
       "3               ['GB']      NaN  tt0071853         8.2    534486.0   \n",
       "4         ['GB', 'US']      NaN  tt0061578         7.7     72662.0   \n",
       "\n",
       "   tmdb_popularity  tmdb_score  \n",
       "0            0.600         NaN  \n",
       "1           40.965       8.179  \n",
       "2           10.010       7.300  \n",
       "3           15.461       7.811  \n",
       "4           20.398       7.600  "
      ]
     },
     "execution_count": 4,
     "metadata": {},
     "output_type": "execute_result"
    }
   ],
   "source": [
    "df.head()"
   ]
  },
  {
   "cell_type": "code",
   "execution_count": 5,
   "id": "e00a5f96",
   "metadata": {
    "execution": {
     "iopub.execute_input": "2022-07-31T15:09:06.759743Z",
     "iopub.status.busy": "2022-07-31T15:09:06.759298Z",
     "iopub.status.idle": "2022-07-31T15:09:06.767368Z",
     "shell.execute_reply": "2022-07-31T15:09:06.766251Z"
    },
    "papermill": {
     "duration": 0.027144,
     "end_time": "2022-07-31T15:09:06.770075",
     "exception": false,
     "start_time": "2022-07-31T15:09:06.742931",
     "status": "completed"
    },
    "tags": []
   },
   "outputs": [
    {
     "data": {
      "text/plain": [
       "Index(['id', 'title', 'type', 'description', 'release_year',\n",
       "       'age_certification', 'runtime', 'genres', 'production_countries',\n",
       "       'seasons', 'imdb_id', 'imdb_score', 'imdb_votes', 'tmdb_popularity',\n",
       "       'tmdb_score'],\n",
       "      dtype='object')"
      ]
     },
     "execution_count": 5,
     "metadata": {},
     "output_type": "execute_result"
    }
   ],
   "source": [
    "df.columns"
   ]
  },
  {
   "cell_type": "code",
   "execution_count": 6,
   "id": "95ae93f3",
   "metadata": {
    "execution": {
     "iopub.execute_input": "2022-07-31T15:09:06.803009Z",
     "iopub.status.busy": "2022-07-31T15:09:06.801849Z",
     "iopub.status.idle": "2022-07-31T15:09:06.835260Z",
     "shell.execute_reply": "2022-07-31T15:09:06.833590Z"
    },
    "papermill": {
     "duration": 0.053583,
     "end_time": "2022-07-31T15:09:06.839009",
     "exception": false,
     "start_time": "2022-07-31T15:09:06.785426",
     "status": "completed"
    },
    "tags": []
   },
   "outputs": [
    {
     "name": "stdout",
     "output_type": "stream",
     "text": [
      "<class 'pandas.core.frame.DataFrame'>\n",
      "RangeIndex: 5850 entries, 0 to 5849\n",
      "Data columns (total 15 columns):\n",
      " #   Column                Non-Null Count  Dtype  \n",
      "---  ------                --------------  -----  \n",
      " 0   id                    5850 non-null   object \n",
      " 1   title                 5849 non-null   object \n",
      " 2   type                  5850 non-null   object \n",
      " 3   description           5832 non-null   object \n",
      " 4   release_year          5850 non-null   int64  \n",
      " 5   age_certification     3231 non-null   object \n",
      " 6   runtime               5850 non-null   int64  \n",
      " 7   genres                5850 non-null   object \n",
      " 8   production_countries  5850 non-null   object \n",
      " 9   seasons               2106 non-null   float64\n",
      " 10  imdb_id               5447 non-null   object \n",
      " 11  imdb_score            5368 non-null   float64\n",
      " 12  imdb_votes            5352 non-null   float64\n",
      " 13  tmdb_popularity       5759 non-null   float64\n",
      " 14  tmdb_score            5539 non-null   float64\n",
      "dtypes: float64(5), int64(2), object(8)\n",
      "memory usage: 685.7+ KB\n"
     ]
    }
   ],
   "source": [
    "df.info()"
   ]
  },
  {
   "cell_type": "code",
   "execution_count": 7,
   "id": "d08c4181",
   "metadata": {
    "execution": {
     "iopub.execute_input": "2022-07-31T15:09:06.872280Z",
     "iopub.status.busy": "2022-07-31T15:09:06.871381Z",
     "iopub.status.idle": "2022-07-31T15:09:06.913829Z",
     "shell.execute_reply": "2022-07-31T15:09:06.912631Z"
    },
    "papermill": {
     "duration": 0.061652,
     "end_time": "2022-07-31T15:09:06.916587",
     "exception": false,
     "start_time": "2022-07-31T15:09:06.854935",
     "status": "completed"
    },
    "tags": []
   },
   "outputs": [
    {
     "data": {
      "text/html": [
       "<div>\n",
       "<style scoped>\n",
       "    .dataframe tbody tr th:only-of-type {\n",
       "        vertical-align: middle;\n",
       "    }\n",
       "\n",
       "    .dataframe tbody tr th {\n",
       "        vertical-align: top;\n",
       "    }\n",
       "\n",
       "    .dataframe thead th {\n",
       "        text-align: right;\n",
       "    }\n",
       "</style>\n",
       "<table border=\"1\" class=\"dataframe\">\n",
       "  <thead>\n",
       "    <tr style=\"text-align: right;\">\n",
       "      <th></th>\n",
       "      <th>release_year</th>\n",
       "      <th>runtime</th>\n",
       "      <th>seasons</th>\n",
       "      <th>imdb_score</th>\n",
       "      <th>imdb_votes</th>\n",
       "      <th>tmdb_popularity</th>\n",
       "      <th>tmdb_score</th>\n",
       "    </tr>\n",
       "  </thead>\n",
       "  <tbody>\n",
       "    <tr>\n",
       "      <th>count</th>\n",
       "      <td>5850.000000</td>\n",
       "      <td>5850.000000</td>\n",
       "      <td>2106.000000</td>\n",
       "      <td>5368.000000</td>\n",
       "      <td>5.352000e+03</td>\n",
       "      <td>5759.000000</td>\n",
       "      <td>5539.000000</td>\n",
       "    </tr>\n",
       "    <tr>\n",
       "      <th>mean</th>\n",
       "      <td>2016.417094</td>\n",
       "      <td>76.888889</td>\n",
       "      <td>2.162868</td>\n",
       "      <td>6.510861</td>\n",
       "      <td>2.343938e+04</td>\n",
       "      <td>22.637925</td>\n",
       "      <td>6.829175</td>\n",
       "    </tr>\n",
       "    <tr>\n",
       "      <th>std</th>\n",
       "      <td>6.937726</td>\n",
       "      <td>39.002509</td>\n",
       "      <td>2.689041</td>\n",
       "      <td>1.163826</td>\n",
       "      <td>9.582047e+04</td>\n",
       "      <td>81.680263</td>\n",
       "      <td>1.170391</td>\n",
       "    </tr>\n",
       "    <tr>\n",
       "      <th>min</th>\n",
       "      <td>1945.000000</td>\n",
       "      <td>0.000000</td>\n",
       "      <td>1.000000</td>\n",
       "      <td>1.500000</td>\n",
       "      <td>5.000000e+00</td>\n",
       "      <td>0.009442</td>\n",
       "      <td>0.500000</td>\n",
       "    </tr>\n",
       "    <tr>\n",
       "      <th>25%</th>\n",
       "      <td>2016.000000</td>\n",
       "      <td>44.000000</td>\n",
       "      <td>1.000000</td>\n",
       "      <td>5.800000</td>\n",
       "      <td>5.167500e+02</td>\n",
       "      <td>2.728500</td>\n",
       "      <td>6.100000</td>\n",
       "    </tr>\n",
       "    <tr>\n",
       "      <th>50%</th>\n",
       "      <td>2018.000000</td>\n",
       "      <td>83.000000</td>\n",
       "      <td>1.000000</td>\n",
       "      <td>6.600000</td>\n",
       "      <td>2.233500e+03</td>\n",
       "      <td>6.821000</td>\n",
       "      <td>6.900000</td>\n",
       "    </tr>\n",
       "    <tr>\n",
       "      <th>75%</th>\n",
       "      <td>2020.000000</td>\n",
       "      <td>104.000000</td>\n",
       "      <td>2.000000</td>\n",
       "      <td>7.300000</td>\n",
       "      <td>9.494000e+03</td>\n",
       "      <td>16.590000</td>\n",
       "      <td>7.537500</td>\n",
       "    </tr>\n",
       "    <tr>\n",
       "      <th>max</th>\n",
       "      <td>2022.000000</td>\n",
       "      <td>240.000000</td>\n",
       "      <td>42.000000</td>\n",
       "      <td>9.600000</td>\n",
       "      <td>2.294231e+06</td>\n",
       "      <td>2274.044000</td>\n",
       "      <td>10.000000</td>\n",
       "    </tr>\n",
       "  </tbody>\n",
       "</table>\n",
       "</div>"
      ],
      "text/plain": [
       "       release_year      runtime      seasons   imdb_score    imdb_votes  \\\n",
       "count   5850.000000  5850.000000  2106.000000  5368.000000  5.352000e+03   \n",
       "mean    2016.417094    76.888889     2.162868     6.510861  2.343938e+04   \n",
       "std        6.937726    39.002509     2.689041     1.163826  9.582047e+04   \n",
       "min     1945.000000     0.000000     1.000000     1.500000  5.000000e+00   \n",
       "25%     2016.000000    44.000000     1.000000     5.800000  5.167500e+02   \n",
       "50%     2018.000000    83.000000     1.000000     6.600000  2.233500e+03   \n",
       "75%     2020.000000   104.000000     2.000000     7.300000  9.494000e+03   \n",
       "max     2022.000000   240.000000    42.000000     9.600000  2.294231e+06   \n",
       "\n",
       "       tmdb_popularity   tmdb_score  \n",
       "count      5759.000000  5539.000000  \n",
       "mean         22.637925     6.829175  \n",
       "std          81.680263     1.170391  \n",
       "min           0.009442     0.500000  \n",
       "25%           2.728500     6.100000  \n",
       "50%           6.821000     6.900000  \n",
       "75%          16.590000     7.537500  \n",
       "max        2274.044000    10.000000  "
      ]
     },
     "execution_count": 7,
     "metadata": {},
     "output_type": "execute_result"
    }
   ],
   "source": [
    "df.describe()"
   ]
  },
  {
   "cell_type": "code",
   "execution_count": 8,
   "id": "dde97c33",
   "metadata": {
    "execution": {
     "iopub.execute_input": "2022-07-31T15:09:06.950209Z",
     "iopub.status.busy": "2022-07-31T15:09:06.949755Z",
     "iopub.status.idle": "2022-07-31T15:09:06.958481Z",
     "shell.execute_reply": "2022-07-31T15:09:06.957197Z"
    },
    "papermill": {
     "duration": 0.028347,
     "end_time": "2022-07-31T15:09:06.960939",
     "exception": false,
     "start_time": "2022-07-31T15:09:06.932592",
     "status": "completed"
    },
    "tags": []
   },
   "outputs": [],
   "source": [
    "def figure_size():\n",
    "    f = plt.figure()\n",
    "    f.set_figwidth(15)\n",
    "    f.set_figheight(10)\n",
    "    font = {'family' : 'normal','size'   : 13}\n",
    "    \n",
    "    \n",
    "    \n",
    "def repair_array_bound_categories(arr):\n",
    "    arr = ast.literal_eval(arr)\n",
    "    \n",
    "    if len(arr) == 0:\n",
    "        return np.nan\n",
    "    \n",
    "    elif len(arr) == 1:\n",
    "        return arr[0]\n",
    "    \n",
    "    else:\n",
    "        return random.choice(arr)"
   ]
  },
  {
   "cell_type": "code",
   "execution_count": 9,
   "id": "be6c8fa3",
   "metadata": {
    "execution": {
     "iopub.execute_input": "2022-07-31T15:09:06.994659Z",
     "iopub.status.busy": "2022-07-31T15:09:06.993653Z",
     "iopub.status.idle": "2022-07-31T15:09:07.159216Z",
     "shell.execute_reply": "2022-07-31T15:09:07.158022Z"
    },
    "papermill": {
     "duration": 0.185839,
     "end_time": "2022-07-31T15:09:07.162496",
     "exception": false,
     "start_time": "2022-07-31T15:09:06.976657",
     "status": "completed"
    },
    "tags": []
   },
   "outputs": [],
   "source": [
    "df[\"production_countries\"] = df[\"production_countries\"].apply(repair_array_bound_categories)\n",
    "df[\"genres\"] = df[\"genres\"].apply(repair_array_bound_categories)"
   ]
  },
  {
   "cell_type": "code",
   "execution_count": 10,
   "id": "0f7d58de",
   "metadata": {
    "execution": {
     "iopub.execute_input": "2022-07-31T15:09:07.195588Z",
     "iopub.status.busy": "2022-07-31T15:09:07.195133Z",
     "iopub.status.idle": "2022-07-31T15:09:07.212311Z",
     "shell.execute_reply": "2022-07-31T15:09:07.210931Z"
    },
    "papermill": {
     "duration": 0.037568,
     "end_time": "2022-07-31T15:09:07.215590",
     "exception": false,
     "start_time": "2022-07-31T15:09:07.178022",
     "status": "completed"
    },
    "tags": []
   },
   "outputs": [
    {
     "data": {
      "text/plain": [
       "id                         0\n",
       "title                      1\n",
       "type                       0\n",
       "description               18\n",
       "release_year               0\n",
       "age_certification       2619\n",
       "runtime                    0\n",
       "genres                    59\n",
       "production_countries     229\n",
       "seasons                 3744\n",
       "imdb_id                  403\n",
       "imdb_score               482\n",
       "imdb_votes               498\n",
       "tmdb_popularity           91\n",
       "tmdb_score               311\n",
       "dtype: int64"
      ]
     },
     "execution_count": 10,
     "metadata": {},
     "output_type": "execute_result"
    }
   ],
   "source": [
    "df.isnull().sum()\n"
   ]
  },
  {
   "cell_type": "markdown",
   "id": "3c00b74a",
   "metadata": {
    "papermill": {
     "duration": 0.015556,
     "end_time": "2022-07-31T15:09:07.247467",
     "exception": false,
     "start_time": "2022-07-31T15:09:07.231911",
     "status": "completed"
    },
    "tags": []
   },
   "source": [
    "# **Analyze Of Types**"
   ]
  },
  {
   "cell_type": "code",
   "execution_count": 11,
   "id": "a98aff91",
   "metadata": {
    "execution": {
     "iopub.execute_input": "2022-07-31T15:09:07.282754Z",
     "iopub.status.busy": "2022-07-31T15:09:07.282343Z",
     "iopub.status.idle": "2022-07-31T15:09:07.297907Z",
     "shell.execute_reply": "2022-07-31T15:09:07.296649Z"
    },
    "papermill": {
     "duration": 0.035745,
     "end_time": "2022-07-31T15:09:07.300487",
     "exception": false,
     "start_time": "2022-07-31T15:09:07.264742",
     "status": "completed"
    },
    "tags": []
   },
   "outputs": [
    {
     "data": {
      "text/html": [
       "<div>\n",
       "<style scoped>\n",
       "    .dataframe tbody tr th:only-of-type {\n",
       "        vertical-align: middle;\n",
       "    }\n",
       "\n",
       "    .dataframe tbody tr th {\n",
       "        vertical-align: top;\n",
       "    }\n",
       "\n",
       "    .dataframe thead th {\n",
       "        text-align: right;\n",
       "    }\n",
       "</style>\n",
       "<table border=\"1\" class=\"dataframe\">\n",
       "  <thead>\n",
       "    <tr style=\"text-align: right;\">\n",
       "      <th></th>\n",
       "      <th>type</th>\n",
       "      <th>counts</th>\n",
       "    </tr>\n",
       "  </thead>\n",
       "  <tbody>\n",
       "    <tr>\n",
       "      <th>0</th>\n",
       "      <td>MOVIE</td>\n",
       "      <td>3744</td>\n",
       "    </tr>\n",
       "    <tr>\n",
       "      <th>1</th>\n",
       "      <td>SHOW</td>\n",
       "      <td>2106</td>\n",
       "    </tr>\n",
       "  </tbody>\n",
       "</table>\n",
       "</div>"
      ],
      "text/plain": [
       "    type  counts\n",
       "0  MOVIE    3744\n",
       "1   SHOW    2106"
      ]
     },
     "execution_count": 11,
     "metadata": {},
     "output_type": "execute_result"
    }
   ],
   "source": [
    "types = df.groupby('type').size().reset_index().rename(columns = {0:'counts'})\n",
    "types"
   ]
  },
  {
   "cell_type": "code",
   "execution_count": 12,
   "id": "19f7b8c6",
   "metadata": {
    "execution": {
     "iopub.execute_input": "2022-07-31T15:09:07.335020Z",
     "iopub.status.busy": "2022-07-31T15:09:07.333831Z",
     "iopub.status.idle": "2022-07-31T15:09:07.917867Z",
     "shell.execute_reply": "2022-07-31T15:09:07.916542Z"
    },
    "papermill": {
     "duration": 0.604385,
     "end_time": "2022-07-31T15:09:07.920972",
     "exception": false,
     "start_time": "2022-07-31T15:09:07.316587",
     "status": "completed"
    },
    "tags": []
   },
   "outputs": [
    {
     "data": {
      "text/plain": [
       "<Figure size 1080x720 with 0 Axes>"
      ]
     },
     "metadata": {},
     "output_type": "display_data"
    },
    {
     "data": {
      "image/png": "[encoded data removed]",
      "text/plain": [
       "<Figure size 864x432 with 2 Axes>"
      ]
     },
     "metadata": {
      "needs_background": "light"
     },
     "output_type": "display_data"
    }
   ],
   "source": [
    "figure_size()\n",
    "langs= types.type\n",
    "fig, axes = plt.subplots(1,2, figsize=(12,6))\n",
    "plt.tight_layout(pad=2)\n",
    "sns.set_style(\"darkgrid\")\n",
    "a1=sns.barplot(x = types.type,y = types.counts,ax=axes[0]);\n",
    "a1.set(xlabel='Types', ylabel='Counts')\n",
    "plt.pie(types.counts,autopct='%1.2f%%',labels = langs,radius=1.5,labeldistance=1.1 ,   rotatelabels=True)\n",
    "plt.legend()\n",
    "plt.show()"
   ]
  },
  {
   "cell_type": "markdown",
   "id": "53a6598f",
   "metadata": {
    "papermill": {
     "duration": 0.017079,
     "end_time": "2022-07-31T15:09:07.955230",
     "exception": false,
     "start_time": "2022-07-31T15:09:07.938151",
     "status": "completed"
    },
    "tags": []
   },
   "source": [
    "## **Observation**\n",
    "\n",
    "It has been Observed That Netflix has Movies(64.74) more than Shows(32.26)."
   ]
  },
  {
   "cell_type": "code",
   "execution_count": 13,
   "id": "7920181c",
   "metadata": {
    "execution": {
     "iopub.execute_input": "2022-07-31T15:09:07.990983Z",
     "iopub.status.busy": "2022-07-31T15:09:07.990583Z",
     "iopub.status.idle": "2022-07-31T15:09:07.998080Z",
     "shell.execute_reply": "2022-07-31T15:09:07.996909Z"
    },
    "papermill": {
     "duration": 0.028428,
     "end_time": "2022-07-31T15:09:08.000521",
     "exception": false,
     "start_time": "2022-07-31T15:09:07.972093",
     "status": "completed"
    },
    "tags": []
   },
   "outputs": [
    {
     "data": {
      "text/plain": [
       "Index(['id', 'title', 'type', 'description', 'release_year',\n",
       "       'age_certification', 'runtime', 'genres', 'production_countries',\n",
       "       'seasons', 'imdb_id', 'imdb_score', 'imdb_votes', 'tmdb_popularity',\n",
       "       'tmdb_score'],\n",
       "      dtype='object')"
      ]
     },
     "execution_count": 13,
     "metadata": {},
     "output_type": "execute_result"
    }
   ],
   "source": [
    "df.columns"
   ]
  },
  {
   "cell_type": "markdown",
   "id": "27f49f2a",
   "metadata": {
    "papermill": {
     "duration": 0.017597,
     "end_time": "2022-07-31T15:09:08.036448",
     "exception": false,
     "start_time": "2022-07-31T15:09:08.018851",
     "status": "completed"
    },
    "tags": []
   },
   "source": [
    "# **Analyze of Age Certifications**"
   ]
  },
  {
   "cell_type": "code",
   "execution_count": 14,
   "id": "3ae78891",
   "metadata": {
    "execution": {
     "iopub.execute_input": "2022-07-31T15:09:08.073113Z",
     "iopub.status.busy": "2022-07-31T15:09:08.072708Z",
     "iopub.status.idle": "2022-07-31T15:09:08.508137Z",
     "shell.execute_reply": "2022-07-31T15:09:08.506944Z"
    },
    "papermill": {
     "duration": 0.456898,
     "end_time": "2022-07-31T15:09:08.510810",
     "exception": false,
     "start_time": "2022-07-31T15:09:08.053912",
     "status": "completed"
    },
    "tags": []
   },
   "outputs": [
    {
     "data": {
      "text/plain": [
       "<Figure size 1080x720 with 0 Axes>"
      ]
     },
     "metadata": {},
     "output_type": "display_data"
    },
    {
     "data": {
      "image/png": "[encoded data removed]",
      "text/plain": [
       "<Figure size 360x360 with 1 Axes>"
      ]
     },
     "metadata": {},
     "output_type": "display_data"
    }
   ],
   "source": [
    "figure_size()\n",
    "sns.catplot(x='age_certification',kind=\"count\",data=df)\n",
    "plt.xticks(rotation=45)\n",
    "plt.show()"
   ]
  },
  {
   "cell_type": "markdown",
   "id": "20b95cb1",
   "metadata": {
    "papermill": {
     "duration": 0.017038,
     "end_time": "2022-07-31T15:09:08.545867",
     "exception": false,
     "start_time": "2022-07-31T15:09:08.528829",
     "status": "completed"
    },
    "tags": []
   },
   "source": [
    "## **Observation**\n",
    "* TV_MA: asigned to be viewed by adults and therefore may be unsuitable for children under 17"
   ]
  },
  {
   "cell_type": "markdown",
   "id": "505dc1c7",
   "metadata": {
    "papermill": {
     "duration": 0.017083,
     "end_time": "2022-07-31T15:09:08.580295",
     "exception": false,
     "start_time": "2022-07-31T15:09:08.563212",
     "status": "completed"
    },
    "tags": []
   },
   "source": [
    "# **Analyze Of Genres**"
   ]
  },
  {
   "cell_type": "code",
   "execution_count": 15,
   "id": "2bd34f6d",
   "metadata": {
    "execution": {
     "iopub.execute_input": "2022-07-31T15:09:08.618866Z",
     "iopub.status.busy": "2022-07-31T15:09:08.618022Z",
     "iopub.status.idle": "2022-07-31T15:09:09.170394Z",
     "shell.execute_reply": "2022-07-31T15:09:09.169175Z"
    },
    "papermill": {
     "duration": 0.5739,
     "end_time": "2022-07-31T15:09:09.172992",
     "exception": false,
     "start_time": "2022-07-31T15:09:08.599092",
     "status": "completed"
    },
    "tags": []
   },
   "outputs": [
    {
     "data": {
      "text/plain": [
       "<Figure size 1080x720 with 0 Axes>"
      ]
     },
     "metadata": {},
     "output_type": "display_data"
    },
    {
     "data": {
      "image/png": "[encoded data removed]",
      "text/plain": [
       "<Figure size 360x360 with 1 Axes>"
      ]
     },
     "metadata": {},
     "output_type": "display_data"
    }
   ],
   "source": [
    "figure_size()\n",
    "sns.catplot(x='genres', kind=\"count\", data=df)\n",
    "plt.xticks(rotation=90)\n",
    "plt.show()"
   ]
  },
  {
   "cell_type": "markdown",
   "id": "de37b460",
   "metadata": {
    "papermill": {
     "duration": 0.017467,
     "end_time": "2022-07-31T15:09:09.208479",
     "exception": false,
     "start_time": "2022-07-31T15:09:09.191012",
     "status": "completed"
    },
    "tags": []
   },
   "source": [
    "# **Observation**\n",
    "drama is the most popular Genre."
   ]
  },
  {
   "cell_type": "markdown",
   "id": "4f1bb09a",
   "metadata": {
    "papermill": {
     "duration": 0.018081,
     "end_time": "2022-07-31T15:09:09.244427",
     "exception": false,
     "start_time": "2022-07-31T15:09:09.226346",
     "status": "completed"
    },
    "tags": []
   },
   "source": [
    "# **Analyze of Production Countries**"
   ]
  },
  {
   "cell_type": "code",
   "execution_count": 16,
   "id": "63ebb223",
   "metadata": {
    "execution": {
     "iopub.execute_input": "2022-07-31T15:09:09.282929Z",
     "iopub.status.busy": "2022-07-31T15:09:09.282503Z",
     "iopub.status.idle": "2022-07-31T15:09:09.289594Z",
     "shell.execute_reply": "2022-07-31T15:09:09.288727Z"
    },
    "papermill": {
     "duration": 0.029458,
     "end_time": "2022-07-31T15:09:09.291850",
     "exception": false,
     "start_time": "2022-07-31T15:09:09.262392",
     "status": "completed"
    },
    "tags": []
   },
   "outputs": [
    {
     "data": {
      "text/plain": [
       "Index(['id', 'title', 'type', 'description', 'release_year',\n",
       "       'age_certification', 'runtime', 'genres', 'production_countries',\n",
       "       'seasons', 'imdb_id', 'imdb_score', 'imdb_votes', 'tmdb_popularity',\n",
       "       'tmdb_score'],\n",
       "      dtype='object')"
      ]
     },
     "execution_count": 16,
     "metadata": {},
     "output_type": "execute_result"
    }
   ],
   "source": [
    "df.columns"
   ]
  },
  {
   "cell_type": "code",
   "execution_count": 17,
   "id": "28d93d7c",
   "metadata": {
    "execution": {
     "iopub.execute_input": "2022-07-31T15:09:09.330447Z",
     "iopub.status.busy": "2022-07-31T15:09:09.329662Z",
     "iopub.status.idle": "2022-07-31T15:09:09.349489Z",
     "shell.execute_reply": "2022-07-31T15:09:09.348533Z"
    },
    "papermill": {
     "duration": 0.042068,
     "end_time": "2022-07-31T15:09:09.351964",
     "exception": false,
     "start_time": "2022-07-31T15:09:09.309896",
     "status": "completed"
    },
    "tags": []
   },
   "outputs": [
    {
     "data": {
      "text/html": [
       "<div>\n",
       "<style scoped>\n",
       "    .dataframe tbody tr th:only-of-type {\n",
       "        vertical-align: middle;\n",
       "    }\n",
       "\n",
       "    .dataframe tbody tr th {\n",
       "        vertical-align: top;\n",
       "    }\n",
       "\n",
       "    .dataframe thead th {\n",
       "        text-align: right;\n",
       "    }\n",
       "</style>\n",
       "<table border=\"1\" class=\"dataframe\">\n",
       "  <thead>\n",
       "    <tr style=\"text-align: right;\">\n",
       "      <th></th>\n",
       "      <th>production_countries</th>\n",
       "      <th>counts</th>\n",
       "    </tr>\n",
       "  </thead>\n",
       "  <tbody>\n",
       "    <tr>\n",
       "      <th>0</th>\n",
       "      <td>US</td>\n",
       "      <td>2118</td>\n",
       "    </tr>\n",
       "    <tr>\n",
       "      <th>1</th>\n",
       "      <td>IN</td>\n",
       "      <td>610</td>\n",
       "    </tr>\n",
       "    <tr>\n",
       "      <th>2</th>\n",
       "      <td>GB</td>\n",
       "      <td>310</td>\n",
       "    </tr>\n",
       "    <tr>\n",
       "      <th>3</th>\n",
       "      <td>JP</td>\n",
       "      <td>268</td>\n",
       "    </tr>\n",
       "    <tr>\n",
       "      <th>4</th>\n",
       "      <td>KR</td>\n",
       "      <td>223</td>\n",
       "    </tr>\n",
       "    <tr>\n",
       "      <th>...</th>\n",
       "      <td>...</td>\n",
       "      <td>...</td>\n",
       "    </tr>\n",
       "    <tr>\n",
       "      <th>89</th>\n",
       "      <td>PY</td>\n",
       "      <td>1</td>\n",
       "    </tr>\n",
       "    <tr>\n",
       "      <th>90</th>\n",
       "      <td>Lebanon</td>\n",
       "      <td>1</td>\n",
       "    </tr>\n",
       "    <tr>\n",
       "      <th>91</th>\n",
       "      <td>MC</td>\n",
       "      <td>1</td>\n",
       "    </tr>\n",
       "    <tr>\n",
       "      <th>92</th>\n",
       "      <td>MU</td>\n",
       "      <td>1</td>\n",
       "    </tr>\n",
       "    <tr>\n",
       "      <th>93</th>\n",
       "      <td>ZW</td>\n",
       "      <td>1</td>\n",
       "    </tr>\n",
       "  </tbody>\n",
       "</table>\n",
       "<p>94 rows × 2 columns</p>\n",
       "</div>"
      ],
      "text/plain": [
       "   production_countries  counts\n",
       "0                    US    2118\n",
       "1                    IN     610\n",
       "2                    GB     310\n",
       "3                    JP     268\n",
       "4                    KR     223\n",
       "..                  ...     ...\n",
       "89                   PY       1\n",
       "90              Lebanon       1\n",
       "91                   MC       1\n",
       "92                   MU       1\n",
       "93                   ZW       1\n",
       "\n",
       "[94 rows x 2 columns]"
      ]
     },
     "execution_count": 17,
     "metadata": {},
     "output_type": "execute_result"
    }
   ],
   "source": [
    "countries = df.groupby('production_countries').size().reset_index().sort_values(by = 0,ascending = 0).reset_index().drop('index',axis = 1).rename(columns = {0:'counts'})\n",
    "countries"
   ]
  },
  {
   "cell_type": "code",
   "execution_count": 18,
   "id": "c9c77b8b",
   "metadata": {
    "execution": {
     "iopub.execute_input": "2022-07-31T15:09:09.390802Z",
     "iopub.status.busy": "2022-07-31T15:09:09.390383Z",
     "iopub.status.idle": "2022-07-31T15:09:09.707063Z",
     "shell.execute_reply": "2022-07-31T15:09:09.705869Z"
    },
    "papermill": {
     "duration": 0.339505,
     "end_time": "2022-07-31T15:09:09.709979",
     "exception": false,
     "start_time": "2022-07-31T15:09:09.370474",
     "status": "completed"
    },
    "tags": []
   },
   "outputs": [
    {
     "data": {
      "image/png": "[encoded data removed]",
      "text/plain": [
       "<Figure size 1080x720 with 1 Axes>"
      ]
     },
     "metadata": {},
     "output_type": "display_data"
    }
   ],
   "source": [
    "figure_size()\n",
    "sns.barplot(x = countries.production_countries[:10],y = countries.counts[:10]);\n",
    "plt.show()"
   ]
  },
  {
   "cell_type": "code",
   "execution_count": 19,
   "id": "3bf7f267",
   "metadata": {
    "execution": {
     "iopub.execute_input": "2022-07-31T15:09:09.750541Z",
     "iopub.status.busy": "2022-07-31T15:09:09.749758Z",
     "iopub.status.idle": "2022-07-31T15:09:09.756559Z",
     "shell.execute_reply": "2022-07-31T15:09:09.755631Z"
    },
    "papermill": {
     "duration": 0.030084,
     "end_time": "2022-07-31T15:09:09.759068",
     "exception": false,
     "start_time": "2022-07-31T15:09:09.728984",
     "status": "completed"
    },
    "tags": []
   },
   "outputs": [],
   "source": [
    "\n",
    "labels = ['US','IN','JP','GB','KR','ES','FR','CA','MX','BR','PH','TR','NG','DE','AU']\n",
    "values = [1950, 605, 266, 219,210,159,124,103,95,86,80,79,67,65,62]"
   ]
  },
  {
   "cell_type": "code",
   "execution_count": 20,
   "id": "6b327ffa",
   "metadata": {
    "execution": {
     "iopub.execute_input": "2022-07-31T15:09:09.798925Z",
     "iopub.status.busy": "2022-07-31T15:09:09.798274Z",
     "iopub.status.idle": "2022-07-31T15:09:10.893093Z",
     "shell.execute_reply": "2022-07-31T15:09:10.891615Z"
    },
    "papermill": {
     "duration": 1.117921,
     "end_time": "2022-07-31T15:09:10.895903",
     "exception": false,
     "start_time": "2022-07-31T15:09:09.777982",
     "status": "completed"
    },
    "tags": []
   },
   "outputs": [
    {
     "data": {
      "text/html": [
       "        <script type=\"text/javascript\">\n",
       "        window.PlotlyConfig = {MathJaxConfig: 'local'};\n",
       "        if (window.MathJax && window.MathJax.Hub && window.MathJax.Hub.Config) {window.MathJax.Hub.Config({SVG: {font: \"STIX-Web\"}});}\n",
       "        if (typeof require !== 'undefined') {\n",
       "        require.undef(\"plotly\");\n",
       "        requirejs.config({\n",
       "            paths: {\n",
       "                'plotly': ['https://cdn.plot.ly/plotly-2.12.1.min']\n",
       "            }\n",
       "        });\n",
       "        require(['plotly'], function(Plotly) {\n",
       "            window._Plotly = Plotly;\n",
       "        });\n",
       "        }\n",
       "        </script>\n",
       "        "
      ]
     },
     "metadata": {},
     "output_type": "display_data"
    },
    {
     "data": {
      "text/html": [
       "<div>                            <div id=\"9d3cda06-9b6d-4a18-b19e-0d3b72bc3de6\" class=\"plotly-graph-div\" style=\"height:525px; width:100%;\"></div>            <script type=\"text/javascript\">                require([\"plotly\"], function(Plotly) {                    window.PLOTLYENV=window.PLOTLYENV || {};                                    if (document.getElementById(\"9d3cda06-9b6d-4a18-b19e-0d3b72bc3de6\")) {                    Plotly.newPlot(                        \"9d3cda06-9b6d-4a18-b19e-0d3b72bc3de6\",                        [{\"domain\":{\"x\":[0.0,1.0],\"y\":[0.0,1.0]},\"hovertemplate\":\"label=%{label}<br>value=%{value}<extra></extra>\",\"labels\":[\"US\",\"IN\",\"JP\",\"GB\",\"KR\",\"ES\",\"FR\",\"CA\",\"MX\",\"BR\",\"PH\",\"TR\",\"NG\",\"DE\",\"AU\"],\"legendgroup\":\"\",\"name\":\"\",\"showlegend\":true,\"values\":[1950,605,266,219,210,159,124,103,95,86,80,79,67,65,62],\"type\":\"pie\"}],                        {\"template\":{\"data\":{\"histogram2dcontour\":[{\"type\":\"histogram2dcontour\",\"colorbar\":{\"outlinewidth\":0,\"ticks\":\"\"},\"colorscale\":[[0.0,\"#0d0887\"],[0.1111111111111111,\"#46039f\"],[0.2222222222222222,\"#7201a8\"],[0.3333333333333333,\"#9c179e\"],[0.4444444444444444,\"#bd3786\"],[0.5555555555555556,\"#d8576b\"],[0.6666666666666666,\"#ed7953\"],[0.7777777777777778,\"#fb9f3a\"],[0.8888888888888888,\"#fdca26\"],[1.0,\"#f0f921\"]]}],\"choropleth\":[{\"type\":\"choropleth\",\"colorbar\":{\"outlinewidth\":0,\"ticks\":\"\"}}],\"histogram2d\":[{\"type\":\"histogram2d\",\"colorbar\":{\"outlinewidth\":0,\"ticks\":\"\"},\"colorscale\":[[0.0,\"#0d0887\"],[0.1111111111111111,\"#46039f\"],[0.2222222222222222,\"#7201a8\"],[0.3333333333333333,\"#9c179e\"],[0.4444444444444444,\"#bd3786\"],[0.5555555555555556,\"#d8576b\"],[0.6666666666666666,\"#ed7953\"],[0.7777777777777778,\"#fb9f3a\"],[0.8888888888888888,\"#fdca26\"],[1.0,\"#f0f921\"]]}],\"heatmap\":[{\"type\":\"heatmap\",\"colorbar\":{\"outlinewidth\":0,\"ticks\":\"\"},\"colorscale\":[[0.0,\"#0d0887\"],[0.1111111111111111,\"#46039f\"],[0.2222222222222222,\"#7201a8\"],[0.3333333333333333,\"#9c179e\"],[0.4444444444444444,\"#bd3786\"],[0.5555555555555556,\"#d8576b\"],[0.6666666666666666,\"#ed7953\"],[0.7777777777777778,\"#fb9f3a\"],[0.8888888888888888,\"#fdca26\"],[1.0,\"#f0f921\"]]}],\"heatmapgl\":[{\"type\":\"heatmapgl\",\"colorbar\":{\"outlinewidth\":0,\"ticks\":\"\"},\"colorscale\":[[0.0,\"#0d0887\"],[0.1111111111111111,\"#46039f\"],[0.2222222222222222,\"#7201a8\"],[0.3333333333333333,\"#9c179e\"],[0.4444444444444444,\"#bd3786\"],[0.5555555555555556,\"#d8576b\"],[0.6666666666666666,\"#ed7953\"],[0.7777777777777778,\"#fb9f3a\"],[0.8888888888888888,\"#fdca26\"],[1.0,\"#f0f921\"]]}],\"contourcarpet\":[{\"type\":\"contourcarpet\",\"colorbar\":{\"outlinewidth\":0,\"ticks\":\"\"}}],\"contour\":[{\"type\":\"contour\",\"colorbar\":{\"outlinewidth\":0,\"ticks\":\"\"},\"colorscale\":[[0.0,\"#0d0887\"],[0.1111111111111111,\"#46039f\"],[0.2222222222222222,\"#7201a8\"],[0.3333333333333333,\"#9c179e\"],[0.4444444444444444,\"#bd3786\"],[0.5555555555555556,\"#d8576b\"],[0.6666666666666666,\"#ed7953\"],[0.7777777777777778,\"#fb9f3a\"],[0.8888888888888888,\"#fdca26\"],[1.0,\"#f0f921\"]]}],\"surface\":[{\"type\":\"surface\",\"colorbar\":{\"outlinewidth\":0,\"ticks\":\"\"},\"colorscale\":[[0.0,\"#0d0887\"],[0.1111111111111111,\"#46039f\"],[0.2222222222222222,\"#7201a8\"],[0.3333333333333333,\"#9c179e\"],[0.4444444444444444,\"#bd3786\"],[0.5555555555555556,\"#d8576b\"],[0.6666666666666666,\"#ed7953\"],[0.7777777777777778,\"#fb9f3a\"],[0.8888888888888888,\"#fdca26\"],[1.0,\"#f0f921\"]]}],\"mesh3d\":[{\"type\":\"mesh3d\",\"colorbar\":{\"outlinewidth\":0,\"ticks\":\"\"}}],\"scatter\":[{\"fillpattern\":{\"fillmode\":\"overlay\",\"size\":10,\"solidity\":0.2},\"type\":\"scatter\"}],\"parcoords\":[{\"type\":\"parcoords\",\"line\":{\"colorbar\":{\"outlinewidth\":0,\"ticks\":\"\"}}}],\"scatterpolargl\":[{\"type\":\"scatterpolargl\",\"marker\":{\"colorbar\":{\"outlinewidth\":0,\"ticks\":\"\"}}}],\"bar\":[{\"error_x\":{\"color\":\"#2a3f5f\"},\"error_y\":{\"color\":\"#2a3f5f\"},\"marker\":{\"line\":{\"color\":\"#E5ECF6\",\"width\":0.5},\"pattern\":{\"fillmode\":\"overlay\",\"size\":10,\"solidity\":0.2}},\"type\":\"bar\"}],\"scattergeo\":[{\"type\":\"scattergeo\",\"marker\":{\"colorbar\":{\"outlinewidth\":0,\"ticks\":\"\"}}}],\"scatterpolar\":[{\"type\":\"scatterpolar\",\"marker\":{\"colorbar\":{\"outlinewidth\":0,\"ticks\":\"\"}}}],\"histogram\":[{\"marker\":{\"pattern\":{\"fillmode\":\"overlay\",\"size\":10,\"solidity\":0.2}},\"type\":\"histogram\"}],\"scattergl\":[{\"type\":\"scattergl\",\"marker\":{\"colorbar\":{\"outlinewidth\":0,\"ticks\":\"\"}}}],\"scatter3d\":[{\"type\":\"scatter3d\",\"line\":{\"colorbar\":{\"outlinewidth\":0,\"ticks\":\"\"}},\"marker\":{\"colorbar\":{\"outlinewidth\":0,\"ticks\":\"\"}}}],\"scattermapbox\":[{\"type\":\"scattermapbox\",\"marker\":{\"colorbar\":{\"outlinewidth\":0,\"ticks\":\"\"}}}],\"scatterternary\":[{\"type\":\"scatterternary\",\"marker\":{\"colorbar\":{\"outlinewidth\":0,\"ticks\":\"\"}}}],\"scattercarpet\":[{\"type\":\"scattercarpet\",\"marker\":{\"colorbar\":{\"outlinewidth\":0,\"ticks\":\"\"}}}],\"carpet\":[{\"aaxis\":{\"endlinecolor\":\"#2a3f5f\",\"gridcolor\":\"white\",\"linecolor\":\"white\",\"minorgridcolor\":\"white\",\"startlinecolor\":\"#2a3f5f\"},\"baxis\":{\"endlinecolor\":\"#2a3f5f\",\"gridcolor\":\"white\",\"linecolor\":\"white\",\"minorgridcolor\":\"white\",\"startlinecolor\":\"#2a3f5f\"},\"type\":\"carpet\"}],\"table\":[{\"cells\":{\"fill\":{\"color\":\"#EBF0F8\"},\"line\":{\"color\":\"white\"}},\"header\":{\"fill\":{\"color\":\"#C8D4E3\"},\"line\":{\"color\":\"white\"}},\"type\":\"table\"}],\"barpolar\":[{\"marker\":{\"line\":{\"color\":\"#E5ECF6\",\"width\":0.5},\"pattern\":{\"fillmode\":\"overlay\",\"size\":10,\"solidity\":0.2}},\"type\":\"barpolar\"}],\"pie\":[{\"automargin\":true,\"type\":\"pie\"}]},\"layout\":{\"autotypenumbers\":\"strict\",\"colorway\":[\"#636efa\",\"#EF553B\",\"#00cc96\",\"#ab63fa\",\"#FFA15A\",\"#19d3f3\",\"#FF6692\",\"#B6E880\",\"#FF97FF\",\"#FECB52\"],\"font\":{\"color\":\"#2a3f5f\"},\"hovermode\":\"closest\",\"hoverlabel\":{\"align\":\"left\"},\"paper_bgcolor\":\"white\",\"plot_bgcolor\":\"#E5ECF6\",\"polar\":{\"bgcolor\":\"#E5ECF6\",\"angularaxis\":{\"gridcolor\":\"white\",\"linecolor\":\"white\",\"ticks\":\"\"},\"radialaxis\":{\"gridcolor\":\"white\",\"linecolor\":\"white\",\"ticks\":\"\"}},\"ternary\":{\"bgcolor\":\"#E5ECF6\",\"aaxis\":{\"gridcolor\":\"white\",\"linecolor\":\"white\",\"ticks\":\"\"},\"baxis\":{\"gridcolor\":\"white\",\"linecolor\":\"white\",\"ticks\":\"\"},\"caxis\":{\"gridcolor\":\"white\",\"linecolor\":\"white\",\"ticks\":\"\"}},\"coloraxis\":{\"colorbar\":{\"outlinewidth\":0,\"ticks\":\"\"}},\"colorscale\":{\"sequential\":[[0.0,\"#0d0887\"],[0.1111111111111111,\"#46039f\"],[0.2222222222222222,\"#7201a8\"],[0.3333333333333333,\"#9c179e\"],[0.4444444444444444,\"#bd3786\"],[0.5555555555555556,\"#d8576b\"],[0.6666666666666666,\"#ed7953\"],[0.7777777777777778,\"#fb9f3a\"],[0.8888888888888888,\"#fdca26\"],[1.0,\"#f0f921\"]],\"sequentialminus\":[[0.0,\"#0d0887\"],[0.1111111111111111,\"#46039f\"],[0.2222222222222222,\"#7201a8\"],[0.3333333333333333,\"#9c179e\"],[0.4444444444444444,\"#bd3786\"],[0.5555555555555556,\"#d8576b\"],[0.6666666666666666,\"#ed7953\"],[0.7777777777777778,\"#fb9f3a\"],[0.8888888888888888,\"#fdca26\"],[1.0,\"#f0f921\"]],\"diverging\":[[0,\"#8e0152\"],[0.1,\"#c51b7d\"],[0.2,\"#de77ae\"],[0.3,\"#f1b6da\"],[0.4,\"#fde0ef\"],[0.5,\"#f7f7f7\"],[0.6,\"#e6f5d0\"],[0.7,\"#b8e186\"],[0.8,\"#7fbc41\"],[0.9,\"#4d9221\"],[1,\"#276419\"]]},\"xaxis\":{\"gridcolor\":\"white\",\"linecolor\":\"white\",\"ticks\":\"\",\"title\":{\"standoff\":15},\"zerolinecolor\":\"white\",\"automargin\":true,\"zerolinewidth\":2},\"yaxis\":{\"gridcolor\":\"white\",\"linecolor\":\"white\",\"ticks\":\"\",\"title\":{\"standoff\":15},\"zerolinecolor\":\"white\",\"automargin\":true,\"zerolinewidth\":2},\"scene\":{\"xaxis\":{\"backgroundcolor\":\"#E5ECF6\",\"gridcolor\":\"white\",\"linecolor\":\"white\",\"showbackground\":true,\"ticks\":\"\",\"zerolinecolor\":\"white\",\"gridwidth\":2},\"yaxis\":{\"backgroundcolor\":\"#E5ECF6\",\"gridcolor\":\"white\",\"linecolor\":\"white\",\"showbackground\":true,\"ticks\":\"\",\"zerolinecolor\":\"white\",\"gridwidth\":2},\"zaxis\":{\"backgroundcolor\":\"#E5ECF6\",\"gridcolor\":\"white\",\"linecolor\":\"white\",\"showbackground\":true,\"ticks\":\"\",\"zerolinecolor\":\"white\",\"gridwidth\":2}},\"shapedefaults\":{\"line\":{\"color\":\"#2a3f5f\"}},\"annotationdefaults\":{\"arrowcolor\":\"#2a3f5f\",\"arrowhead\":0,\"arrowwidth\":1},\"geo\":{\"bgcolor\":\"white\",\"landcolor\":\"#E5ECF6\",\"subunitcolor\":\"white\",\"showland\":true,\"showlakes\":true,\"lakecolor\":\"white\"},\"title\":{\"x\":0.05},\"mapbox\":{\"style\":\"light\"}}},\"legend\":{\"tracegroupgap\":0},\"title\":{\"text\":\"Most Popular Production Countries\"}},                        {\"responsive\": true}                    ).then(function(){\n",
       "                            \n",
       "var gd = document.getElementById('9d3cda06-9b6d-4a18-b19e-0d3b72bc3de6');\n",
       "var x = new MutationObserver(function (mutations, observer) {{\n",
       "        var display = window.getComputedStyle(gd).display;\n",
       "        if (!display || display === 'none') {{\n",
       "            console.log([gd, 'removed!']);\n",
       "            Plotly.purge(gd);\n",
       "            observer.disconnect();\n",
       "        }}\n",
       "}});\n",
       "\n",
       "// Listen for the removal of the full notebook cells\n",
       "var notebookContainer = gd.closest('#notebook-container');\n",
       "if (notebookContainer) {{\n",
       "    x.observe(notebookContainer, {childList: true});\n",
       "}}\n",
       "\n",
       "// Listen for the clearing of the current output cell\n",
       "var outputEl = gd.closest('.output');\n",
       "if (outputEl) {{\n",
       "    x.observe(outputEl, {childList: true});\n",
       "}}\n",
       "\n",
       "                        })                };                });            </script>        </div>"
      ]
     },
     "metadata": {},
     "output_type": "display_data"
    }
   ],
   "source": [
    "fig = px.pie(df, values=values, names=labels, title='Most Popular Production Countries')\n",
    "fig.show()"
   ]
  },
  {
   "cell_type": "markdown",
   "id": "eea90d62",
   "metadata": {
    "papermill": {
     "duration": 0.018917,
     "end_time": "2022-07-31T15:09:10.934421",
     "exception": false,
     "start_time": "2022-07-31T15:09:10.915504",
     "status": "completed"
    },
    "tags": []
   },
   "source": [
    "# **Observation**\n",
    "\n",
    "As we can observe US is the Most Popular Production Countries."
   ]
  },
  {
   "cell_type": "markdown",
   "id": "0a5e9777",
   "metadata": {
    "papermill": {
     "duration": 0.019274,
     "end_time": "2022-07-31T15:09:10.972988",
     "exception": false,
     "start_time": "2022-07-31T15:09:10.953714",
     "status": "completed"
    },
    "tags": []
   },
   "source": [
    "# **Analyze Of Release Years**"
   ]
  },
  {
   "cell_type": "code",
   "execution_count": 21,
   "id": "c44e1512",
   "metadata": {
    "execution": {
     "iopub.execute_input": "2022-07-31T15:09:11.014334Z",
     "iopub.status.busy": "2022-07-31T15:09:11.013888Z",
     "iopub.status.idle": "2022-07-31T15:09:11.029960Z",
     "shell.execute_reply": "2022-07-31T15:09:11.029043Z"
    },
    "papermill": {
     "duration": 0.039659,
     "end_time": "2022-07-31T15:09:11.032317",
     "exception": false,
     "start_time": "2022-07-31T15:09:10.992658",
     "status": "completed"
    },
    "tags": []
   },
   "outputs": [
    {
     "data": {
      "text/html": [
       "<div>\n",
       "<style scoped>\n",
       "    .dataframe tbody tr th:only-of-type {\n",
       "        vertical-align: middle;\n",
       "    }\n",
       "\n",
       "    .dataframe tbody tr th {\n",
       "        vertical-align: top;\n",
       "    }\n",
       "\n",
       "    .dataframe thead th {\n",
       "        text-align: right;\n",
       "    }\n",
       "</style>\n",
       "<table border=\"1\" class=\"dataframe\">\n",
       "  <thead>\n",
       "    <tr style=\"text-align: right;\">\n",
       "      <th></th>\n",
       "      <th>Year</th>\n",
       "      <th>counts</th>\n",
       "    </tr>\n",
       "  </thead>\n",
       "  <tbody>\n",
       "    <tr>\n",
       "      <th>0</th>\n",
       "      <td>1945</td>\n",
       "      <td>1</td>\n",
       "    </tr>\n",
       "    <tr>\n",
       "      <th>1</th>\n",
       "      <td>1954</td>\n",
       "      <td>2</td>\n",
       "    </tr>\n",
       "    <tr>\n",
       "      <th>2</th>\n",
       "      <td>1956</td>\n",
       "      <td>1</td>\n",
       "    </tr>\n",
       "    <tr>\n",
       "      <th>3</th>\n",
       "      <td>1958</td>\n",
       "      <td>1</td>\n",
       "    </tr>\n",
       "    <tr>\n",
       "      <th>4</th>\n",
       "      <td>1959</td>\n",
       "      <td>1</td>\n",
       "    </tr>\n",
       "    <tr>\n",
       "      <th>...</th>\n",
       "      <td>...</td>\n",
       "      <td>...</td>\n",
       "    </tr>\n",
       "    <tr>\n",
       "      <th>58</th>\n",
       "      <td>2018</td>\n",
       "      <td>773</td>\n",
       "    </tr>\n",
       "    <tr>\n",
       "      <th>59</th>\n",
       "      <td>2019</td>\n",
       "      <td>836</td>\n",
       "    </tr>\n",
       "    <tr>\n",
       "      <th>60</th>\n",
       "      <td>2020</td>\n",
       "      <td>814</td>\n",
       "    </tr>\n",
       "    <tr>\n",
       "      <th>61</th>\n",
       "      <td>2021</td>\n",
       "      <td>787</td>\n",
       "    </tr>\n",
       "    <tr>\n",
       "      <th>62</th>\n",
       "      <td>2022</td>\n",
       "      <td>371</td>\n",
       "    </tr>\n",
       "  </tbody>\n",
       "</table>\n",
       "<p>63 rows × 2 columns</p>\n",
       "</div>"
      ],
      "text/plain": [
       "    Year  counts\n",
       "0   1945       1\n",
       "1   1954       2\n",
       "2   1956       1\n",
       "3   1958       1\n",
       "4   1959       1\n",
       "..   ...     ...\n",
       "58  2018     773\n",
       "59  2019     836\n",
       "60  2020     814\n",
       "61  2021     787\n",
       "62  2022     371\n",
       "\n",
       "[63 rows x 2 columns]"
      ]
     },
     "execution_count": 21,
     "metadata": {},
     "output_type": "execute_result"
    }
   ],
   "source": [
    "year = df.groupby(['release_year']).size().reset_index().rename(columns = {0:\"counts\",'release_year':'Year'})\n",
    "year"
   ]
  },
  {
   "cell_type": "code",
   "execution_count": 22,
   "id": "904d96e8",
   "metadata": {
    "execution": {
     "iopub.execute_input": "2022-07-31T15:09:11.073953Z",
     "iopub.status.busy": "2022-07-31T15:09:11.073124Z",
     "iopub.status.idle": "2022-07-31T15:09:11.112068Z",
     "shell.execute_reply": "2022-07-31T15:09:11.110838Z"
    },
    "papermill": {
     "duration": 0.062942,
     "end_time": "2022-07-31T15:09:11.114783",
     "exception": false,
     "start_time": "2022-07-31T15:09:11.051841",
     "status": "completed"
    },
    "tags": []
   },
   "outputs": [
    {
     "data": {
      "text/html": [
       "<div>                            <div id=\"3a906216-bed5-4713-8a0e-334d0c4bad35\" class=\"plotly-graph-div\" style=\"height:525px; width:100%;\"></div>            <script type=\"text/javascript\">                require([\"plotly\"], function(Plotly) {                    window.PLOTLYENV=window.PLOTLYENV || {};                                    if (document.getElementById(\"3a906216-bed5-4713-8a0e-334d0c4bad35\")) {                    Plotly.newPlot(                        \"3a906216-bed5-4713-8a0e-334d0c4bad35\",                        [{\"x\":[1945,1954,1956,1958,1959,1960,1961,1963,1966,1967,1969,1971,1972,1973,1974,1975,1976,1977,1978,1979,1980,1981,1982,1983,1984,1985,1986,1987,1988,1989,1990,1991,1992,1993,1994,1995,1996,1997,1998,1999,2000,2001,2002,2003,2004,2005,2006,2007,2008,2009,2010,2011,2012,2013,2014,2015,2016,2017,2018,2019,2020,2021,2022],\"y\":[1,2,1,1,1,1,1,1,1,2,2,1,3,1,1,2,3,1,1,5,3,3,6,4,6,1,4,6,7,12,7,13,3,14,16,10,7,16,22,13,11,20,22,31,38,32,45,48,63,59,66,86,107,135,153,223,362,563,773,836,814,787,371],\"type\":\"scatter\"}],                        {\"template\":{\"data\":{\"histogram2dcontour\":[{\"type\":\"histogram2dcontour\",\"colorbar\":{\"outlinewidth\":0,\"ticks\":\"\"},\"colorscale\":[[0.0,\"#0d0887\"],[0.1111111111111111,\"#46039f\"],[0.2222222222222222,\"#7201a8\"],[0.3333333333333333,\"#9c179e\"],[0.4444444444444444,\"#bd3786\"],[0.5555555555555556,\"#d8576b\"],[0.6666666666666666,\"#ed7953\"],[0.7777777777777778,\"#fb9f3a\"],[0.8888888888888888,\"#fdca26\"],[1.0,\"#f0f921\"]]}],\"choropleth\":[{\"type\":\"choropleth\",\"colorbar\":{\"outlinewidth\":0,\"ticks\":\"\"}}],\"histogram2d\":[{\"type\":\"histogram2d\",\"colorbar\":{\"outlinewidth\":0,\"ticks\":\"\"},\"colorscale\":[[0.0,\"#0d0887\"],[0.1111111111111111,\"#46039f\"],[0.2222222222222222,\"#7201a8\"],[0.3333333333333333,\"#9c179e\"],[0.4444444444444444,\"#bd3786\"],[0.5555555555555556,\"#d8576b\"],[0.6666666666666666,\"#ed7953\"],[0.7777777777777778,\"#fb9f3a\"],[0.8888888888888888,\"#fdca26\"],[1.0,\"#f0f921\"]]}],\"heatmap\":[{\"type\":\"heatmap\",\"colorbar\":{\"outlinewidth\":0,\"ticks\":\"\"},\"colorscale\":[[0.0,\"#0d0887\"],[0.1111111111111111,\"#46039f\"],[0.2222222222222222,\"#7201a8\"],[0.3333333333333333,\"#9c179e\"],[0.4444444444444444,\"#bd3786\"],[0.5555555555555556,\"#d8576b\"],[0.6666666666666666,\"#ed7953\"],[0.7777777777777778,\"#fb9f3a\"],[0.8888888888888888,\"#fdca26\"],[1.0,\"#f0f921\"]]}],\"heatmapgl\":[{\"type\":\"heatmapgl\",\"colorbar\":{\"outlinewidth\":0,\"ticks\":\"\"},\"colorscale\":[[0.0,\"#0d0887\"],[0.1111111111111111,\"#46039f\"],[0.2222222222222222,\"#7201a8\"],[0.3333333333333333,\"#9c179e\"],[0.4444444444444444,\"#bd3786\"],[0.5555555555555556,\"#d8576b\"],[0.6666666666666666,\"#ed7953\"],[0.7777777777777778,\"#fb9f3a\"],[0.8888888888888888,\"#fdca26\"],[1.0,\"#f0f921\"]]}],\"contourcarpet\":[{\"type\":\"contourcarpet\",\"colorbar\":{\"outlinewidth\":0,\"ticks\":\"\"}}],\"contour\":[{\"type\":\"contour\",\"colorbar\":{\"outlinewidth\":0,\"ticks\":\"\"},\"colorscale\":[[0.0,\"#0d0887\"],[0.1111111111111111,\"#46039f\"],[0.2222222222222222,\"#7201a8\"],[0.3333333333333333,\"#9c179e\"],[0.4444444444444444,\"#bd3786\"],[0.5555555555555556,\"#d8576b\"],[0.6666666666666666,\"#ed7953\"],[0.7777777777777778,\"#fb9f3a\"],[0.8888888888888888,\"#fdca26\"],[1.0,\"#f0f921\"]]}],\"surface\":[{\"type\":\"surface\",\"colorbar\":{\"outlinewidth\":0,\"ticks\":\"\"},\"colorscale\":[[0.0,\"#0d0887\"],[0.1111111111111111,\"#46039f\"],[0.2222222222222222,\"#7201a8\"],[0.3333333333333333,\"#9c179e\"],[0.4444444444444444,\"#bd3786\"],[0.5555555555555556,\"#d8576b\"],[0.6666666666666666,\"#ed7953\"],[0.7777777777777778,\"#fb9f3a\"],[0.8888888888888888,\"#fdca26\"],[1.0,\"#f0f921\"]]}],\"mesh3d\":[{\"type\":\"mesh3d\",\"colorbar\":{\"outlinewidth\":0,\"ticks\":\"\"}}],\"scatter\":[{\"fillpattern\":{\"fillmode\":\"overlay\",\"size\":10,\"solidity\":0.2},\"type\":\"scatter\"}],\"parcoords\":[{\"type\":\"parcoords\",\"line\":{\"colorbar\":{\"outlinewidth\":0,\"ticks\":\"\"}}}],\"scatterpolargl\":[{\"type\":\"scatterpolargl\",\"marker\":{\"colorbar\":{\"outlinewidth\":0,\"ticks\":\"\"}}}],\"bar\":[{\"error_x\":{\"color\":\"#2a3f5f\"},\"error_y\":{\"color\":\"#2a3f5f\"},\"marker\":{\"line\":{\"color\":\"#E5ECF6\",\"width\":0.5},\"pattern\":{\"fillmode\":\"overlay\",\"size\":10,\"solidity\":0.2}},\"type\":\"bar\"}],\"scattergeo\":[{\"type\":\"scattergeo\",\"marker\":{\"colorbar\":{\"outlinewidth\":0,\"ticks\":\"\"}}}],\"scatterpolar\":[{\"type\":\"scatterpolar\",\"marker\":{\"colorbar\":{\"outlinewidth\":0,\"ticks\":\"\"}}}],\"histogram\":[{\"marker\":{\"pattern\":{\"fillmode\":\"overlay\",\"size\":10,\"solidity\":0.2}},\"type\":\"histogram\"}],\"scattergl\":[{\"type\":\"scattergl\",\"marker\":{\"colorbar\":{\"outlinewidth\":0,\"ticks\":\"\"}}}],\"scatter3d\":[{\"type\":\"scatter3d\",\"line\":{\"colorbar\":{\"outlinewidth\":0,\"ticks\":\"\"}},\"marker\":{\"colorbar\":{\"outlinewidth\":0,\"ticks\":\"\"}}}],\"scattermapbox\":[{\"type\":\"scattermapbox\",\"marker\":{\"colorbar\":{\"outlinewidth\":0,\"ticks\":\"\"}}}],\"scatterternary\":[{\"type\":\"scatterternary\",\"marker\":{\"colorbar\":{\"outlinewidth\":0,\"ticks\":\"\"}}}],\"scattercarpet\":[{\"type\":\"scattercarpet\",\"marker\":{\"colorbar\":{\"outlinewidth\":0,\"ticks\":\"\"}}}],\"carpet\":[{\"aaxis\":{\"endlinecolor\":\"#2a3f5f\",\"gridcolor\":\"white\",\"linecolor\":\"white\",\"minorgridcolor\":\"white\",\"startlinecolor\":\"#2a3f5f\"},\"baxis\":{\"endlinecolor\":\"#2a3f5f\",\"gridcolor\":\"white\",\"linecolor\":\"white\",\"minorgridcolor\":\"white\",\"startlinecolor\":\"#2a3f5f\"},\"type\":\"carpet\"}],\"table\":[{\"cells\":{\"fill\":{\"color\":\"#EBF0F8\"},\"line\":{\"color\":\"white\"}},\"header\":{\"fill\":{\"color\":\"#C8D4E3\"},\"line\":{\"color\":\"white\"}},\"type\":\"table\"}],\"barpolar\":[{\"marker\":{\"line\":{\"color\":\"#E5ECF6\",\"width\":0.5},\"pattern\":{\"fillmode\":\"overlay\",\"size\":10,\"solidity\":0.2}},\"type\":\"barpolar\"}],\"pie\":[{\"automargin\":true,\"type\":\"pie\"}]},\"layout\":{\"autotypenumbers\":\"strict\",\"colorway\":[\"#636efa\",\"#EF553B\",\"#00cc96\",\"#ab63fa\",\"#FFA15A\",\"#19d3f3\",\"#FF6692\",\"#B6E880\",\"#FF97FF\",\"#FECB52\"],\"font\":{\"color\":\"#2a3f5f\"},\"hovermode\":\"closest\",\"hoverlabel\":{\"align\":\"left\"},\"paper_bgcolor\":\"white\",\"plot_bgcolor\":\"#E5ECF6\",\"polar\":{\"bgcolor\":\"#E5ECF6\",\"angularaxis\":{\"gridcolor\":\"white\",\"linecolor\":\"white\",\"ticks\":\"\"},\"radialaxis\":{\"gridcolor\":\"white\",\"linecolor\":\"white\",\"ticks\":\"\"}},\"ternary\":{\"bgcolor\":\"#E5ECF6\",\"aaxis\":{\"gridcolor\":\"white\",\"linecolor\":\"white\",\"ticks\":\"\"},\"baxis\":{\"gridcolor\":\"white\",\"linecolor\":\"white\",\"ticks\":\"\"},\"caxis\":{\"gridcolor\":\"white\",\"linecolor\":\"white\",\"ticks\":\"\"}},\"coloraxis\":{\"colorbar\":{\"outlinewidth\":0,\"ticks\":\"\"}},\"colorscale\":{\"sequential\":[[0.0,\"#0d0887\"],[0.1111111111111111,\"#46039f\"],[0.2222222222222222,\"#7201a8\"],[0.3333333333333333,\"#9c179e\"],[0.4444444444444444,\"#bd3786\"],[0.5555555555555556,\"#d8576b\"],[0.6666666666666666,\"#ed7953\"],[0.7777777777777778,\"#fb9f3a\"],[0.8888888888888888,\"#fdca26\"],[1.0,\"#f0f921\"]],\"sequentialminus\":[[0.0,\"#0d0887\"],[0.1111111111111111,\"#46039f\"],[0.2222222222222222,\"#7201a8\"],[0.3333333333333333,\"#9c179e\"],[0.4444444444444444,\"#bd3786\"],[0.5555555555555556,\"#d8576b\"],[0.6666666666666666,\"#ed7953\"],[0.7777777777777778,\"#fb9f3a\"],[0.8888888888888888,\"#fdca26\"],[1.0,\"#f0f921\"]],\"diverging\":[[0,\"#8e0152\"],[0.1,\"#c51b7d\"],[0.2,\"#de77ae\"],[0.3,\"#f1b6da\"],[0.4,\"#fde0ef\"],[0.5,\"#f7f7f7\"],[0.6,\"#e6f5d0\"],[0.7,\"#b8e186\"],[0.8,\"#7fbc41\"],[0.9,\"#4d9221\"],[1,\"#276419\"]]},\"xaxis\":{\"gridcolor\":\"white\",\"linecolor\":\"white\",\"ticks\":\"\",\"title\":{\"standoff\":15},\"zerolinecolor\":\"white\",\"automargin\":true,\"zerolinewidth\":2},\"yaxis\":{\"gridcolor\":\"white\",\"linecolor\":\"white\",\"ticks\":\"\",\"title\":{\"standoff\":15},\"zerolinecolor\":\"white\",\"automargin\":true,\"zerolinewidth\":2},\"scene\":{\"xaxis\":{\"backgroundcolor\":\"#E5ECF6\",\"gridcolor\":\"white\",\"linecolor\":\"white\",\"showbackground\":true,\"ticks\":\"\",\"zerolinecolor\":\"white\",\"gridwidth\":2},\"yaxis\":{\"backgroundcolor\":\"#E5ECF6\",\"gridcolor\":\"white\",\"linecolor\":\"white\",\"showbackground\":true,\"ticks\":\"\",\"zerolinecolor\":\"white\",\"gridwidth\":2},\"zaxis\":{\"backgroundcolor\":\"#E5ECF6\",\"gridcolor\":\"white\",\"linecolor\":\"white\",\"showbackground\":true,\"ticks\":\"\",\"zerolinecolor\":\"white\",\"gridwidth\":2}},\"shapedefaults\":{\"line\":{\"color\":\"#2a3f5f\"}},\"annotationdefaults\":{\"arrowcolor\":\"#2a3f5f\",\"arrowhead\":0,\"arrowwidth\":1},\"geo\":{\"bgcolor\":\"white\",\"landcolor\":\"#E5ECF6\",\"subunitcolor\":\"white\",\"showland\":true,\"showlakes\":true,\"lakecolor\":\"white\"},\"title\":{\"x\":0.05},\"mapbox\":{\"style\":\"light\"}}},\"title\":{\"text\":\"No of Movies & Shows Release Over the Years\"},\"xaxis\":{\"rangeslider\":{\"visible\":true},\"type\":\"date\"}},                        {\"responsive\": true}                    ).then(function(){\n",
       "                            \n",
       "var gd = document.getElementById('3a906216-bed5-4713-8a0e-334d0c4bad35');\n",
       "var x = new MutationObserver(function (mutations, observer) {{\n",
       "        var display = window.getComputedStyle(gd).display;\n",
       "        if (!display || display === 'none') {{\n",
       "            console.log([gd, 'removed!']);\n",
       "            Plotly.purge(gd);\n",
       "            observer.disconnect();\n",
       "        }}\n",
       "}});\n",
       "\n",
       "// Listen for the removal of the full notebook cells\n",
       "var notebookContainer = gd.closest('#notebook-container');\n",
       "if (notebookContainer) {{\n",
       "    x.observe(notebookContainer, {childList: true});\n",
       "}}\n",
       "\n",
       "// Listen for the clearing of the current output cell\n",
       "var outputEl = gd.closest('.output');\n",
       "if (outputEl) {{\n",
       "    x.observe(outputEl, {childList: true});\n",
       "}}\n",
       "\n",
       "                        })                };                });            </script>        </div>"
      ]
     },
     "metadata": {},
     "output_type": "display_data"
    }
   ],
   "source": [
    "# Create figure\n",
    "fig = go.Figure()\n",
    "\n",
    "fig.add_trace(\n",
    "    go.Scatter(x=list(year.Year), y=list(year.counts)))\n",
    "\n",
    "# Set title\n",
    "fig.update_layout(\n",
    "    title_text=\"No of Movies & Shows Release Over the Years\"\n",
    ")\n",
    "\n",
    "# Add range slider\n",
    "fig.update_layout(\n",
    "    xaxis=dict(\n",
    "        rangeselector=dict(\n",
    "            buttons=list([])\n",
    "        ),\n",
    "        rangeslider=dict(\n",
    "            visible=True\n",
    "        ),\n",
    "        type=\"date\"\n",
    "    )\n",
    ")\n",
    "\n",
    "fig.show()"
   ]
  },
  {
   "cell_type": "code",
   "execution_count": 23,
   "id": "2e543950",
   "metadata": {
    "execution": {
     "iopub.execute_input": "2022-07-31T15:09:11.156923Z",
     "iopub.status.busy": "2022-07-31T15:09:11.156520Z",
     "iopub.status.idle": "2022-07-31T15:09:11.174608Z",
     "shell.execute_reply": "2022-07-31T15:09:11.172950Z"
    },
    "papermill": {
     "duration": 0.043272,
     "end_time": "2022-07-31T15:09:11.177866",
     "exception": false,
     "start_time": "2022-07-31T15:09:11.134594",
     "status": "completed"
    },
    "tags": []
   },
   "outputs": [
    {
     "data": {
      "text/html": [
       "<div>\n",
       "<style scoped>\n",
       "    .dataframe tbody tr th:only-of-type {\n",
       "        vertical-align: middle;\n",
       "    }\n",
       "\n",
       "    .dataframe tbody tr th {\n",
       "        vertical-align: top;\n",
       "    }\n",
       "\n",
       "    .dataframe thead th {\n",
       "        text-align: right;\n",
       "    }\n",
       "</style>\n",
       "<table border=\"1\" class=\"dataframe\">\n",
       "  <thead>\n",
       "    <tr style=\"text-align: right;\">\n",
       "      <th></th>\n",
       "      <th>release_year</th>\n",
       "    </tr>\n",
       "  </thead>\n",
       "  <tbody>\n",
       "    <tr>\n",
       "      <th>2019</th>\n",
       "      <td>836</td>\n",
       "    </tr>\n",
       "    <tr>\n",
       "      <th>2020</th>\n",
       "      <td>814</td>\n",
       "    </tr>\n",
       "    <tr>\n",
       "      <th>2021</th>\n",
       "      <td>787</td>\n",
       "    </tr>\n",
       "    <tr>\n",
       "      <th>2018</th>\n",
       "      <td>773</td>\n",
       "    </tr>\n",
       "    <tr>\n",
       "      <th>2017</th>\n",
       "      <td>563</td>\n",
       "    </tr>\n",
       "    <tr>\n",
       "      <th>...</th>\n",
       "      <td>...</td>\n",
       "    </tr>\n",
       "    <tr>\n",
       "      <th>1960</th>\n",
       "      <td>1</td>\n",
       "    </tr>\n",
       "    <tr>\n",
       "      <th>1974</th>\n",
       "      <td>1</td>\n",
       "    </tr>\n",
       "    <tr>\n",
       "      <th>1959</th>\n",
       "      <td>1</td>\n",
       "    </tr>\n",
       "    <tr>\n",
       "      <th>1978</th>\n",
       "      <td>1</td>\n",
       "    </tr>\n",
       "    <tr>\n",
       "      <th>1945</th>\n",
       "      <td>1</td>\n",
       "    </tr>\n",
       "  </tbody>\n",
       "</table>\n",
       "<p>63 rows × 1 columns</p>\n",
       "</div>"
      ],
      "text/plain": [
       "      release_year\n",
       "2019           836\n",
       "2020           814\n",
       "2021           787\n",
       "2018           773\n",
       "2017           563\n",
       "...            ...\n",
       "1960             1\n",
       "1974             1\n",
       "1959             1\n",
       "1978             1\n",
       "1945             1\n",
       "\n",
       "[63 rows x 1 columns]"
      ]
     },
     "execution_count": 23,
     "metadata": {},
     "output_type": "execute_result"
    }
   ],
   "source": [
    "release_year_count= df.release_year.value_counts()\n",
    "release_year_count = pd.DataFrame(release_year_count)\n",
    "release_year_count\n"
   ]
  },
  {
   "cell_type": "code",
   "execution_count": 24,
   "id": "dca23a32",
   "metadata": {
    "execution": {
     "iopub.execute_input": "2022-07-31T15:09:11.224107Z",
     "iopub.status.busy": "2022-07-31T15:09:11.223258Z",
     "iopub.status.idle": "2022-07-31T15:09:11.586469Z",
     "shell.execute_reply": "2022-07-31T15:09:11.585308Z"
    },
    "papermill": {
     "duration": 0.389889,
     "end_time": "2022-07-31T15:09:11.589007",
     "exception": false,
     "start_time": "2022-07-31T15:09:11.199118",
     "status": "completed"
    },
    "tags": []
   },
   "outputs": [
    {
     "data": {
      "image/png": "[encoded data removed]",
      "text/plain": [
       "<Figure size 720x648 with 1 Axes>"
      ]
     },
     "metadata": {},
     "output_type": "display_data"
    }
   ],
   "source": [
    "plt.figure(figsize=(10, 9))\n",
    "sns.lineplot(data= release_year_count)\n",
    "plt.title('Netflix´s shows release date (1940-2021)')\n",
    "plt.xlim(1940, 2021)\n",
    "plt.xlabel('Year released')\n",
    "plt.ylabel('Total Shows on Netflix')\n",
    "plt.show()\n"
   ]
  },
  {
   "cell_type": "markdown",
   "id": "d8b80cb4",
   "metadata": {
    "papermill": {
     "duration": 0.020391,
     "end_time": "2022-07-31T15:09:11.631076",
     "exception": false,
     "start_time": "2022-07-31T15:09:11.610685",
     "status": "completed"
    },
    "tags": []
   },
   "source": [
    "# **Observation**\n",
    "\n",
    "It has been Observed That most of the Movies are released in 2019.\n",
    "\n",
    "It has been Observed That most of the Movies are released in period of  2010-2019."
   ]
  },
  {
   "cell_type": "markdown",
   "id": "851c9f03",
   "metadata": {
    "papermill": {
     "duration": 0.020383,
     "end_time": "2022-07-31T15:09:11.672125",
     "exception": false,
     "start_time": "2022-07-31T15:09:11.651742",
     "status": "completed"
    },
    "tags": []
   },
   "source": [
    "# **Deep Analysis**"
   ]
  },
  {
   "cell_type": "markdown",
   "id": "f2ccf966",
   "metadata": {
    "papermill": {
     "duration": 0.020457,
     "end_time": "2022-07-31T15:09:11.713403",
     "exception": false,
     "start_time": "2022-07-31T15:09:11.692946",
     "status": "completed"
    },
    "tags": []
   },
   "source": [
    "# **Analyze Of Genre of Each Age Certification**"
   ]
  },
  {
   "cell_type": "code",
   "execution_count": 25,
   "id": "ad0b6438",
   "metadata": {
    "execution": {
     "iopub.execute_input": "2022-07-31T15:09:11.758087Z",
     "iopub.status.busy": "2022-07-31T15:09:11.757647Z",
     "iopub.status.idle": "2022-07-31T15:09:13.025033Z",
     "shell.execute_reply": "2022-07-31T15:09:13.024072Z"
    },
    "papermill": {
     "duration": 1.292702,
     "end_time": "2022-07-31T15:09:13.027322",
     "exception": false,
     "start_time": "2022-07-31T15:09:11.734620",
     "status": "completed"
    },
    "tags": []
   },
   "outputs": [
    {
     "data": {
      "text/plain": [
       "<AxesSubplot:xlabel='age_certification', ylabel='count'>"
      ]
     },
     "execution_count": 25,
     "metadata": {},
     "output_type": "execute_result"
    },
    {
     "data": {
      "image/png": "[encoded data removed]",
      "text/plain": [
       "<Figure size 2400x1200 with 1 Axes>"
      ]
     },
     "metadata": {},
     "output_type": "display_data"
    }
   ],
   "source": [
    "plt.figure(figsize=(24, 12), dpi=100)\n",
    "sns.countplot(data=df, x=\"age_certification\", hue=\"genres\",palette = 'magma')\n"
   ]
  },
  {
   "cell_type": "markdown",
   "id": "353d2109",
   "metadata": {
    "papermill": {
     "duration": 0.023089,
     "end_time": "2022-07-31T15:09:13.072547",
     "exception": false,
     "start_time": "2022-07-31T15:09:13.049458",
     "status": "completed"
    },
    "tags": []
   },
   "source": [
    "**Now let's see imdb_score and tmdb_score**"
   ]
  },
  {
   "cell_type": "code",
   "execution_count": 26,
   "id": "1a697f1d",
   "metadata": {
    "execution": {
     "iopub.execute_input": "2022-07-31T15:09:13.119654Z",
     "iopub.status.busy": "2022-07-31T15:09:13.118825Z",
     "iopub.status.idle": "2022-07-31T15:09:13.137178Z",
     "shell.execute_reply": "2022-07-31T15:09:13.136230Z"
    },
    "papermill": {
     "duration": 0.044779,
     "end_time": "2022-07-31T15:09:13.139518",
     "exception": false,
     "start_time": "2022-07-31T15:09:13.094739",
     "status": "completed"
    },
    "tags": []
   },
   "outputs": [
    {
     "data": {
      "text/html": [
       "<div>\n",
       "<style scoped>\n",
       "    .dataframe tbody tr th:only-of-type {\n",
       "        vertical-align: middle;\n",
       "    }\n",
       "\n",
       "    .dataframe tbody tr th {\n",
       "        vertical-align: top;\n",
       "    }\n",
       "\n",
       "    .dataframe thead th {\n",
       "        text-align: right;\n",
       "    }\n",
       "</style>\n",
       "<table border=\"1\" class=\"dataframe\">\n",
       "  <thead>\n",
       "    <tr style=\"text-align: right;\">\n",
       "      <th></th>\n",
       "      <th>genres</th>\n",
       "      <th>imdb_score</th>\n",
       "    </tr>\n",
       "  </thead>\n",
       "  <tbody>\n",
       "    <tr>\n",
       "      <th>0</th>\n",
       "      <td>action</td>\n",
       "      <td>1817.4</td>\n",
       "    </tr>\n",
       "    <tr>\n",
       "      <th>1</th>\n",
       "      <td>animation</td>\n",
       "      <td>1351.8</td>\n",
       "    </tr>\n",
       "    <tr>\n",
       "      <th>2</th>\n",
       "      <td>comedy</td>\n",
       "      <td>6638.2</td>\n",
       "    </tr>\n",
       "    <tr>\n",
       "      <th>3</th>\n",
       "      <td>crime</td>\n",
       "      <td>1887.1</td>\n",
       "    </tr>\n",
       "    <tr>\n",
       "      <th>4</th>\n",
       "      <td>documentation</td>\n",
       "      <td>3772.7</td>\n",
       "    </tr>\n",
       "  </tbody>\n",
       "</table>\n",
       "</div>"
      ],
      "text/plain": [
       "          genres  imdb_score\n",
       "0         action      1817.4\n",
       "1      animation      1351.8\n",
       "2         comedy      6638.2\n",
       "3          crime      1887.1\n",
       "4  documentation      3772.7"
      ]
     },
     "execution_count": 26,
     "metadata": {},
     "output_type": "execute_result"
    }
   ],
   "source": [
    "b= df.groupby('genres')[['imdb_score']].sum().reset_index()\n",
    "b.head()"
   ]
  },
  {
   "cell_type": "code",
   "execution_count": 27,
   "id": "8cf5d85f",
   "metadata": {
    "execution": {
     "iopub.execute_input": "2022-07-31T15:09:13.186245Z",
     "iopub.status.busy": "2022-07-31T15:09:13.185496Z",
     "iopub.status.idle": "2022-07-31T15:09:13.612321Z",
     "shell.execute_reply": "2022-07-31T15:09:13.610924Z"
    },
    "papermill": {
     "duration": 0.453331,
     "end_time": "2022-07-31T15:09:13.615049",
     "exception": false,
     "start_time": "2022-07-31T15:09:13.161718",
     "status": "completed"
    },
    "tags": []
   },
   "outputs": [
    {
     "data": {
      "image/png": "[encoded data removed]",
      "text/plain": [
       "<Figure size 1080x720 with 1 Axes>"
      ]
     },
     "metadata": {},
     "output_type": "display_data"
    }
   ],
   "source": [
    "figure_size()\n",
    "sns.barplot(x='genres',y='imdb_score',data=b,palette = 'magma')\n",
    "plt.xticks(rotation=90)\n",
    "plt.show()"
   ]
  },
  {
   "cell_type": "code",
   "execution_count": 28,
   "id": "9a476573",
   "metadata": {
    "execution": {
     "iopub.execute_input": "2022-07-31T15:09:13.662370Z",
     "iopub.status.busy": "2022-07-31T15:09:13.661934Z",
     "iopub.status.idle": "2022-07-31T15:09:13.680244Z",
     "shell.execute_reply": "2022-07-31T15:09:13.678967Z"
    },
    "papermill": {
     "duration": 0.044899,
     "end_time": "2022-07-31T15:09:13.682784",
     "exception": false,
     "start_time": "2022-07-31T15:09:13.637885",
     "status": "completed"
    },
    "tags": []
   },
   "outputs": [
    {
     "data": {
      "text/html": [
       "<div>\n",
       "<style scoped>\n",
       "    .dataframe tbody tr th:only-of-type {\n",
       "        vertical-align: middle;\n",
       "    }\n",
       "\n",
       "    .dataframe tbody tr th {\n",
       "        vertical-align: top;\n",
       "    }\n",
       "\n",
       "    .dataframe thead th {\n",
       "        text-align: right;\n",
       "    }\n",
       "</style>\n",
       "<table border=\"1\" class=\"dataframe\">\n",
       "  <thead>\n",
       "    <tr style=\"text-align: right;\">\n",
       "      <th></th>\n",
       "      <th>genres</th>\n",
       "      <th>tmdb_score</th>\n",
       "    </tr>\n",
       "  </thead>\n",
       "  <tbody>\n",
       "    <tr>\n",
       "      <th>0</th>\n",
       "      <td>action</td>\n",
       "      <td>2024.131</td>\n",
       "    </tr>\n",
       "    <tr>\n",
       "      <th>1</th>\n",
       "      <td>animation</td>\n",
       "      <td>1547.310</td>\n",
       "    </tr>\n",
       "    <tr>\n",
       "      <th>2</th>\n",
       "      <td>comedy</td>\n",
       "      <td>7150.699</td>\n",
       "    </tr>\n",
       "    <tr>\n",
       "      <th>3</th>\n",
       "      <td>crime</td>\n",
       "      <td>1971.959</td>\n",
       "    </tr>\n",
       "    <tr>\n",
       "      <th>4</th>\n",
       "      <td>documentation</td>\n",
       "      <td>4144.276</td>\n",
       "    </tr>\n",
       "  </tbody>\n",
       "</table>\n",
       "</div>"
      ],
      "text/plain": [
       "          genres  tmdb_score\n",
       "0         action    2024.131\n",
       "1      animation    1547.310\n",
       "2         comedy    7150.699\n",
       "3          crime    1971.959\n",
       "4  documentation    4144.276"
      ]
     },
     "execution_count": 28,
     "metadata": {},
     "output_type": "execute_result"
    }
   ],
   "source": [
    "b= df.groupby('genres')[['tmdb_score']].sum().reset_index()\n",
    "b.head()"
   ]
  },
  {
   "cell_type": "code",
   "execution_count": 29,
   "id": "b7e81c32",
   "metadata": {
    "execution": {
     "iopub.execute_input": "2022-07-31T15:09:13.731341Z",
     "iopub.status.busy": "2022-07-31T15:09:13.730538Z",
     "iopub.status.idle": "2022-07-31T15:09:14.163799Z",
     "shell.execute_reply": "2022-07-31T15:09:14.162888Z"
    },
    "papermill": {
     "duration": 0.460402,
     "end_time": "2022-07-31T15:09:14.166327",
     "exception": false,
     "start_time": "2022-07-31T15:09:13.705925",
     "status": "completed"
    },
    "tags": []
   },
   "outputs": [
    {
     "data": {
      "image/png": "[encoded data removed]",
      "text/plain": [
       "<Figure size 1080x720 with 1 Axes>"
      ]
     },
     "metadata": {},
     "output_type": "display_data"
    }
   ],
   "source": [
    "figure_size()\n",
    "sns.barplot(x='genres',y='tmdb_score',data=b,palette = 'magma')\n",
    "plt.xticks(rotation=90)\n",
    "plt.show()"
   ]
  },
  {
   "cell_type": "code",
   "execution_count": 30,
   "id": "7713588e",
   "metadata": {
    "execution": {
     "iopub.execute_input": "2022-07-31T15:09:14.216415Z",
     "iopub.status.busy": "2022-07-31T15:09:14.215649Z",
     "iopub.status.idle": "2022-07-31T15:09:14.583874Z",
     "shell.execute_reply": "2022-07-31T15:09:14.582685Z"
    },
    "papermill": {
     "duration": 0.396456,
     "end_time": "2022-07-31T15:09:14.586591",
     "exception": false,
     "start_time": "2022-07-31T15:09:14.190135",
     "status": "completed"
    },
    "tags": []
   },
   "outputs": [
    {
     "data": {
      "image/png": "[encoded data removed]",
      "text/plain": [
       "<Figure size 1080x720 with 2 Axes>"
      ]
     },
     "metadata": {},
     "output_type": "display_data"
    }
   ],
   "source": [
    "df_num = df[['release_year', 'runtime',   'seasons',  'imdb_score', 'imdb_votes', 'tmdb_popularity',  'tmdb_score']]\n",
    "figure_size()\n",
    "sns.heatmap(df_num.corr())\n",
    "plt.show()"
   ]
  },
  {
   "cell_type": "markdown",
   "id": "ef15bc5b",
   "metadata": {
    "papermill": {
     "duration": 0.024491,
     "end_time": "2022-07-31T15:09:14.635733",
     "exception": false,
     "start_time": "2022-07-31T15:09:14.611242",
     "status": "completed"
    },
    "tags": []
   },
   "source": [
    "## **Thank You for Reviewing My Notebook. I Will Further Upgrade It More**\n",
    "\n",
    "## **EDA Done By Rimmel Asghar with ❤**"
   ]
  },
  {
   "cell_type": "markdown",
   "id": "3893cd76",
   "metadata": {
    "papermill": {
     "duration": 0.024187,
     "end_time": "2022-07-31T15:09:14.684268",
     "exception": false,
     "start_time": "2022-07-31T15:09:14.660081",
     "status": "completed"
    },
    "tags": []
   },
   "source": [
    "![that'sallfolks](https://i.ytimg.com/vi/AYZz_qYw_j4/maxresdefault.jpg)"
   ]
  }
 ],
 "metadata": {
  "kernelspec": {
   "display_name": "Python 3",
   "language": "python",
   "name": "python3"
  },
  "language_info": {
   "codemirror_mode": {
    "name": "ipython",
    "version": 3
   },
   "file_extension": ".py",
   "mimetype": "text/x-python",
   "name": "python",
   "nbconvert_exporter": "python",
   "pygments_lexer": "ipython3",
   "version": "3.7.12"
  },
  "papermill": {
   "default_parameters": {},
   "duration": 24.226161,
   "end_time": "2022-07-31T15:09:15.632133",
   "environment_variables": {},
   "exception": null,
   "input_path": "__notebook__.ipynb",
   "output_path": "__notebook__.ipynb",
   "parameters": {},
   "start_time": "2022-07-31T15:08:51.405972",
   "version": "2.3.4"
  }
 },
 "nbformat": 4,
 "nbformat_minor": 5
}
